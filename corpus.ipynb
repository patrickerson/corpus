{
  "nbformat": 4,
  "nbformat_minor": 0,
  "metadata": {
    "colab": {
      "provenance": [],
      "collapsed_sections": [],
      "authorship_tag": "ABX9TyNgkkDP8SiBwnhBroYqh1IV",
      "include_colab_link": true
    },
    "kernelspec": {
      "name": "python3",
      "display_name": "Python 3"
    },
    "language_info": {
      "name": "python"
    }
  },
  "cells": [
    {
      "cell_type": "markdown",
      "metadata": {
        "id": "view-in-github",
        "colab_type": "text"
      },
      "source": [
        "<a href=\"https://colab.research.google.com/github/patrickerson/corpus/blob/main/corpus.ipynb\" target=\"_parent\"><img src=\"https://colab.research.google.com/assets/colab-badge.svg\" alt=\"Open In Colab\"/></a>"
      ]
    },
    {
      "cell_type": "markdown",
      "source": [
        "# Patrickerson dos Santos Veiga"
      ],
      "metadata": {
        "id": "AwMANEI_sZNq"
      }
    },
    {
      "cell_type": "markdown",
      "source": [
        "Classe para modelagem dos dados que serão usados para realizar o web scrap. Logo abaixo, as instâncias com o nome do site, url, tag e  classe do conteúdo, respectivamente."
      ],
      "metadata": {
        "id": "-4V9v1r7sd-u"
      }
    },
    {
      "cell_type": "code",
      "execution_count": null,
      "metadata": {
        "id": "X5jLzIFpa2fD"
      },
      "outputs": [],
      "source": [
        "class WebscrappingModal:\n",
        "\n",
        "    def __init__(self, name, url, content_tag, content_class):\n",
        "        self.name=name\n",
        "        self.url=url\n",
        "        self.content_tag=content_tag\n",
        "        self.content_class=content_class\n",
        "\n",
        "    def append_df(self, df):\n",
        "        self.df = df\n",
        "\n",
        "    \n",
        "    def set_sents_array(self, sents_array):\n",
        "        self.sents_array = sents_array"
      ]
    },
    {
      "cell_type": "code",
      "source": [
        "Abs = WebscrappingModal(\n",
        "    name=\"abs\",\n",
        "    url=\"https://www.abs.gov.au/websitedbs/D3310114.nsf/home/Basic+Survey+Design+-+Data+Processing\",\n",
        "    content_tag='div',\n",
        "    content_class=\"content\"\n",
        ")"
      ],
      "metadata": {
        "id": "uuBW91nneAe3"
      },
      "execution_count": null,
      "outputs": []
    },
    {
      "cell_type": "code",
      "source": [
        "Helpscout = WebscrappingModal(\n",
        "    name=\"helpscout\",\n",
        "    url=\"https://www.helpscout.com/company/legal/dpa/\",\n",
        "    content_tag='div',\n",
        "    content_class=\"Contentstyles__ContentDIV-sc-7tdxle-0 dzbACc\"\n",
        ")"
      ],
      "metadata": {
        "id": "7xMpneZyeNTD"
      },
      "execution_count": null,
      "outputs": []
    },
    {
      "cell_type": "code",
      "source": [
        "Integrate = WebscrappingModal(\n",
        "    name=\"integrate\",\n",
        "    url=\"https://www.integrate.io/blog/the-5-types-of-data-processing/\",\n",
        "    content_tag='article',\n",
        "    content_class=\"container-fluid integrateio-blog-post-content\"\n",
        ")"
      ],
      "metadata": {
        "id": "2Q6uQOt_eUXD"
      },
      "execution_count": null,
      "outputs": []
    },
    {
      "cell_type": "code",
      "source": [
        "Peda = WebscrappingModal(\n",
        "    name=\"peda\",\n",
        "    url=\"https://peda.net/kenya/ass/subjects2/computer-studies/form-3/data-processing\",\n",
        "    content_tag='article',\n",
        "    content_class=\"textmodule document uuid-199b3e82-3256-11e7-bd46-d102fbf45fbc enclose\"\n",
        ")"
      ],
      "metadata": {
        "id": "6e0pBAIQeac8"
      },
      "execution_count": null,
      "outputs": []
    },
    {
      "cell_type": "code",
      "source": [
        "Simplilearn = WebscrappingModal(\n",
        "    name=\"simplilearn\",\n",
        "    url=\"https://www.simplilearn.com/what-is-data-processing-article\",\n",
        "    content_tag='article',\n",
        "    content_class=\"desig_author empty-text\"\n",
        ")"
      ],
      "metadata": {
        "id": "ghV7zAW4emaI"
      },
      "execution_count": null,
      "outputs": []
    },
    {
      "cell_type": "markdown",
      "source": [
        "Classe para junção das models com a controller (Scrapper), contentando os conteúdos que serão analisados posteriormente"
      ],
      "metadata": {
        "id": "8BLGvdhxs7RK"
      }
    },
    {
      "cell_type": "code",
      "source": [
        "class Middleware:\n",
        "    \n",
        "    contents = [\n",
        "       \n",
        "        Simplilearn,\n",
        "        Integrate,\n",
        "         Peda,\n",
        "        Helpscout,\n",
        "        Abs\n",
        "    ]"
      ],
      "metadata": {
        "id": "IgUKMVguerqw"
      },
      "execution_count": null,
      "outputs": []
    },
    {
      "cell_type": "code",
      "source": [
        "from bs4 import BeautifulSoup\n",
        "from requests import get\n",
        "import spacy\n",
        "import pandas as pd\n",
        "from spacy.language import Language\n",
        "class Scrapper:\n",
        "    nlp=spacy.load(\"en_core_web_sm\")\n",
        "    contents = Middleware.contents\n",
        "    encode = 'utf-8'\n",
        "\n",
        "    def __init__(self):\n",
        "      self.nlp.add_pipe(\"set_start_setence\", before=\"parser\")\n",
        "\n",
        "\n",
        "    def load_contents(self):\n",
        "        \"\"\"\n",
        "        Chama as models do contents para carregar o conteúdo\n",
        "        \"\"\"\n",
        "        for content in self.contents:\n",
        "            \n",
        "            self.load_content(content)\n",
        "\n",
        "    @Language.component(\"set_start_setence\")\n",
        "    def set_start_setence(doc):\n",
        "      \"\"\"\n",
        "      Adiciona novos inicios de sentenças\n",
        "      \"\"\"\n",
        "      custom_sent_start = [\"!\", \"?\", \",\", \";\", \".\",\"\\n\"]\n",
        "      for token in doc[:-1]:\n",
        "          if token.text in custom_sent_start:\n",
        "              doc[token.i+1].is_sent_start = True\n",
        "      return doc\n",
        "\n",
        "    def load_content(self, content):\n",
        "        \"\"\"\n",
        "        Carrega o conteúdo dado uma WebscrappingModal\n",
        "\n",
        "        Parameters\n",
        "        ----------\n",
        "        content : WebscrappingModal\n",
        "          Conteúdo a ser carregado\n",
        "\n",
        "        \"\"\"\n",
        "        c = Content(content)\n",
        "        text = c.get_text()\n",
        "        \n",
        "        doc = self.nlp(text.strip())\n",
        "        sents_array = [sent.text for sent in doc.sents]\n",
        "        void_arg = lambda arg: arg != \"\" and arg != \" \" and arg != \"\\n\" and arg!= \",\"\n",
        "        content.set_sents_array(list(filter(void_arg, map(lambda x: x.replace(\"\\n\", \"\"),sents_array))))\n",
        "\n",
        "\n",
        "    def view_sents_array(self):\n",
        "      \"\"\"\n",
        "      Função para exibição dos arrays de sentença de cada conteúdo\n",
        "      \"\"\"\n",
        "      for i in self.contents:\n",
        "         print(i.sents_array)\n",
        "          \n",
        "    def get_sets_arrays(self):\n",
        "      return [sents_array.sents_array for sents_array in self.contents]"
      ],
      "metadata": {
        "id": "cFWgRWFee724"
      },
      "execution_count": null,
      "outputs": []
    },
    {
      "cell_type": "code",
      "source": [
        "class Content:\n",
        "  parser=\"html.parser\"\n",
        "  def __init__(self, content):\n",
        "     \"\"\"\n",
        "        Carrega o conteúdo dado uma WebscrappingModal\n",
        "\n",
        "        Parameters\n",
        "        ----------\n",
        "        content : WebscrappingModal\n",
        "          Conteúdo a ser carregado\n",
        "\n",
        "        \n",
        "      \"\"\"\n",
        "     self.content = content\n",
        "\n",
        "  def get_text(self):\n",
        "        \"\"\"\n",
        "        Obtem um texto do conteúdo de uma url e realiza web scrap\n",
        "\n",
        "\n",
        "        Nesta classe, utilizando um método get em uma URL previamente definida\n",
        "        no content. É definido o encode default desta classe.\n",
        "\n",
        "        Para o webscrap, procura-se pela tag e classe definida respectivamente\n",
        "        no content\n",
        "\n",
        "        Quaisquer que sejam o conteúdo com a tag script, é extraido do conteúdo,\n",
        "        dessa forma, scripts não são lidos pela classe.\n",
        "\n",
        "\n",
        "        Returns\n",
        "        --------\n",
        "        String\n",
        "          Texto extraido\n",
        "        \"\"\"\n",
        "        \n",
        "        try:\n",
        "          with open(self.content.name + \".html\",\"r\", encoding='utf-8') as file:\n",
        "            html_text = file.read()\n",
        "        except FileNotFoundError:\n",
        "          self.save_html()\n",
        "          with open(self.content.name + \".html\",\"r\", encoding='utf-8') as file:\n",
        "            html_text = file.read()\n",
        "        soup = BeautifulSoup(html_text, self.parser)\n",
        "        for s in soup.select('script'):\n",
        "          s.extract()\n",
        "        \n",
        "        if self.content.content_class==\"\":\n",
        "            find = soup.find(self.content.content_tag)\n",
        "            print(find)\n",
        "            return find.text.replace.replace(\"\\xa0\", \" \")\n",
        "            \n",
        "        else:\n",
        "            find = soup.find(self.content.content_tag, class_=self.content.content_class)\n",
        "            if find == None:\n",
        "              print(self.content.name)\n",
        "            return find.text.replace(\"\\xa0\", \" \")\n",
        "      \n",
        "  def save_html(self):\n",
        "      \"\"\"\n",
        "      Salva os textos requeridos através de um request em arquivos \n",
        "      .html para facilitar o desenvolvimento e evitar bloqueios de firewall\n",
        "\n",
        "      \"\"\"\n",
        "      html_text = get(self.content.url)\n",
        "      html_text.encoding='utf-8'\n",
        "      with open(self.content.name + \".html\", \"w\",encoding='utf-8') as file:\n",
        "        file.write(html_text.text)"
      ],
      "metadata": {
        "id": "DqP9Xs6khMw-"
      },
      "execution_count": null,
      "outputs": []
    },
    {
      "cell_type": "code",
      "source": [
        "scrapper = Scrapper()\n"
      ],
      "metadata": {
        "id": "1fy-2T2CfCq8"
      },
      "execution_count": null,
      "outputs": []
    },
    {
      "cell_type": "code",
      "source": [
        "scrapper.load_contents()"
      ],
      "metadata": {
        "id": "SeLLgyntZ7zK"
      },
      "execution_count": null,
      "outputs": []
    },
    {
      "cell_type": "code",
      "source": [
        "scrapper.view_sents_array()"
      ],
      "metadata": {
        "colab": {
          "base_uri": "https://localhost:8080/"
        },
        "id": "RvixJMWggFNb",
        "outputId": "d27ad280-0824-4a96-f1f7-976756969a35"
      },
      "execution_count": null,
      "outputs": [
        {
          "output_type": "stream",
          "name": "stdout",
          "text": [
            "['Whether you use the internet to learn about a certain topic,', 'complete financial transactions online,', 'order food,', 'etc.', 'data is being generated every single second.', 'The use of social media,', 'online shopping and video streaming services have all added to the increase in the amount of data.', 'A study by Domo estimates that 1.7MB data is created every second for every human being on the planet in 2020.', 'And in order to utilize and get insights from such a huge amount of data - data processing comes into play.', 'Moving forward,', 'let us understand what is data processing.', 'What Is Data Processing?', 'Data in its raw form is not useful to any organization.', 'Data processing is the method of collecting raw data and translating it into usable information.', 'It is usually performed in a step-by-step process by a team of data scientists and data engineers in an organization.', 'The raw data is collected,', 'filtered,', 'sorted,', 'processed,', 'analyzed,', 'stored,', 'and', 'then presented in a readable format.', 'Data processing is essential for organizations to create better business strategies and increase their competitive edge.', 'By converting the data into readable formats like graphs,', 'charts,', 'and', 'documents,', 'employees throughout the organization can understand and use the data.', 'Post Graduate Program in Data EngineeringYour Gateway To Becoming a Data Engineering ExpertView Course', 'Now that we’ve established what we mean by data processing,', 'let’s examine the data processing cycle.', 'All About the Data Processing Cycle', 'The data processing cycle consists of a series of steps where raw data (input) is fed into a system to produce actionable insights (output).', 'Each step is taken in a specific order,', 'but the entire process is repeated in a cyclic manner.', \"The first data processing cycle's output can be stored and fed as the input for the next cycle,\", 'as the illustration below shows us.', 'Fig: Data processing cycle (source)', 'Generally,', 'there are six main steps in the data processing cycle:', 'Step 1: Collection', 'The collection of raw data is the first step of the data processing cycle.', 'The type of raw data collected has a huge impact on the output produced.', 'Hence,', 'raw data should be gathered from defined and accurate sources so that the subsequent findings are valid and usable.', 'Raw data can include monetary figures,', 'website cookies,', 'profit/loss statements of a company,', 'user behavior,', 'etc', '.', 'Step 2: Preparation', 'Data preparation or data cleaning is the process of sorting and filtering the raw data to remove unnecessary and inaccurate data.', 'Raw data is checked for errors,', 'duplication,', 'miscalculations or missing data,', 'and transformed into a suitable form for further analysis and processing.', 'This is done to ensure that only the highest quality data is fed into the processing unit.', 'The purpose of this step to remove bad data (redundant,', 'incomplete,', 'or incorrect data) so as to begin assembling high-quality information so that it can be used in the best possible way for business intelligence.', 'Step 3: Input', 'In this step,', 'the raw data is converted into machine readable form and fed into the processing unit.', 'This can be in the form of data entry through a keyboard,', 'scanner or any other input source.', 'Step 4: Data Processing', 'In this step,', 'the raw data is subjected to various data processing methods using machine learning and artificial intelligence algorithms to generate a desirable output.', 'This step may vary slightly from process to process depending on the source of data being processed (data lakes,', 'online databases,', 'connected devices,', 'etc.', ')', 'and the intended use of the output.', 'Step 5: Output', 'The data is finally transmitted and displayed to the user in a readable form like graphs,', 'tables,', 'vector files,', 'audio,', 'video,', 'documents,', 'etc.', 'This output can be stored and further processed in the next data processing cycle.', 'Step 6: Storage', 'The last step of the data processing cycle is storage,', 'where data and metadata are stored for further use.', 'This allows for quick access and retrieval of information whenever needed,', 'and also allows it to be used as input in the next data processing cycle directly.', 'Free Course: Big Data Hadoop and Spark DeveloperLearn Big Data Basics from Top Experts - for FREEEnrol', 'Now', 'Now that we have learned what is data processing and its cycle', 'now we can look at the types.', 'What is Data Processing: Types of Data Processing', 'There are different types of data processing based on the source of data and the steps taken by the processing unit to generate an output.', 'There is no one-size-fits-all method that can be used for processing raw data.', 'TypeUsesBatch ProcessingData is collected and processed in batches.', 'Used for large amounts of data.', 'Eg: payroll systemReal-time ProcessingData is processed within seconds when the input is given.', 'Used for small amounts of data.', 'Eg: withdrawing money from ATMOnline ProcessingData is automatically fed into the CPU as soon as it becomes available.', 'Used for continuous processing of data.', 'Eg: barcode scanningMultiprocessingData is broken down into frames and processed using two or more CPUs within a single computer system.', 'Also known as parallel processing.', 'Eg: weather forecastingTime-sharingAllocates computer resources and data in time slots to several users simultaneously.', 'What is Data Processing: Data Processing Methods', 'There are three main data processing methods - manual,', 'mechanical and electronic.', 'Manual Data Processing', 'This data processing method is handled manually.', 'The entire process of data collection,', 'filtering,', 'sorting,', 'calculation,', 'and other logical operations are all done with human intervention and without the use of any other electronic device or automation software.', 'It is a low-cost method and requires little to no tools,', 'but', 'produces high errors,', 'high labor costs,', 'and lots of time and tedium.', 'Mechanical Data Processing', 'Data is processed mechanically through the use of devices and machines.', 'These can include simple devices such as calculators,', 'typewriters,', 'printing press,', 'etc.', 'Simple data processing operations can be achieved with this method.', 'It has much lesser errors than manual data processing,', 'but the increase of data has made this method more complex and difficult.', 'Learn Data Science with R for FREEMaster Basics of Data Science with R for FREEEnrol', 'Now', 'Electronic Data Processing', 'Data is processed with modern technologies using data processing software and programs.', 'A set of instructions is given to the software to process the data and yield output.', 'This method is the most expensive but provides the fastest processing speeds with the highest reliability and accuracy of output.', 'Examples of Data Processing', 'Data processing occurs in our daily lives whether we may be aware of it or not.', 'Here are some real-life examples of data processing:A stock trading software that converts millions of stock data into a simple graph', 'An e-commerce company uses the search history of customers to recommend similar products', 'A digital marketing company uses demographic data of people to strategize location-specific campaigns', 'A self-driving car uses real-time data from sensors to detect if there are pedestrians and other cars on the road', 'Moving From Data Processing to Analytics', 'If we had to pick one thing that stands out at the most significant game-changer in today’s business world,', 'it’s big data.', 'Although it involves handling a staggering amount of information,', 'the rewards are undeniable.', 'That’s why companies that want to stay competitive in the 21st-century marketplace need an effective data processing strategy.', 'Analytics,', 'the process of finding,', 'interpreting,', 'and', 'communicating meaningful patterns in data,', 'is the next logical step after data processing.', 'Whereas data processing changes data from one form to another,', 'analytics takes those newly processed forms and makes sense of them.', 'But no matter which of these processes data scientists are using,', 'the sheer volume of data and the analysis of its processed forms require greater storage and access capabilities,', 'which leads us to the next section!', 'The Future of Data Processing', 'The future of data processing can best be summed up in one short phrase: cloud computing.', 'While the six steps of data processing remain immutable,', 'cloud technology has provided spectacular advances in data processing technology that has given data analysts and scientists the fastest,', 'most advanced,', 'cost-effective,', 'and', 'most efficient data processing methods today.', 'The cloud lets companies blend their platforms into one centralized system that’s easy to work with and adapt.', 'Cloud technology allows seamless integration of new upgrades and updates to legacy systems while offering organizations immense scalability.', 'Cloud platforms are also affordable and serve as a great equalizer between large organizations and smaller companies.', 'So,', 'the same IT innovations that created big data and its associated challenges have also provided the solution.', 'The cloud can handle the huge workloads that are characteristic of big data operations.', 'Want to begin your career as a Big Data Engineer?', 'Check out the Big Data Engineer Training Course and get certified.', 'Here’s What You Can Do Next', 'Data contains a lot of useful information for organizations,', 'researchers,', 'institutions,', 'and', 'individual users.', 'With the increase in the amount of data being generated every day,', 'there is a need for more data scientists and data engineers to help understand these data.', 'Simplilearn’s Data Engineering Certification Course in collaboration with IBM and partnership with Purdue University offers the highest learning experience to help you master crucial data engineering skills.', 'By leveraging Purdue University’s academic excellence in data engineering and IBM’s industry-relevant and hands-on training experience,', 'this program will help fast-track your career as a data engineering professional.', 'We hope you enjoyed the article “What is Data Processing?', '”', 'and found it useful.', 'If you have any questions,', 'please ask them in the comment section,', 'and we’ll get you an answer as soon as we can.', 'FAQs', 'Q1.', 'What is Manual Data Processing?', 'Manual Data Processing is when the entire process is done by humans without using any automation service or electronic devices.', 'It’s a low cost method of data processing but it is definitely time and labor intensive.', 'Q2.', 'What is Mechanical Data Processing?', 'In Mechanical Data Processing,', 'data is processed without human intervention using machines and computers to automate the process.', 'This includes using simple devices such as calculators,', 'typewriters,', 'etc.', 'With the mechanical data process', 'there are less errors and the processing is faster and less intensive.', 'Q3.', 'What is Electronic Data Processing?', 'Electronic Data Processing or EDP is the use of automated methods to process commercial data.', 'This process uses computers to process simple data in large volumes.', 'Examples of this include stock inventory,', 'banking transactions,', 'etc.', 'This process does not include human intervention and is prone to fewer errors.', 'Q4.', 'What is Batch Data Processing?', 'Batch Data Processing is when processing and analysis happens on data that has been stored for a longer period of time.', 'This process is often applied to large datasets such as payroll,', 'credit card or banking transactions,', 'etc.', 'Q5.', 'What is Real-time Data Processing?', 'Real-time Data Processing is when data is processed quickly and in a short-period of time.', 'This system is used when results are required in a short amount of time,', 'for example stock selling.', 'Q6.', 'What is Automatic Data Processing', 'Automatic Data Processing is when a tool or software is used to store,', 'organize,', 'filter and analyze the data.', 'It is also known as Automated Data Processing.']\n",
            "['As the business landscape continues to evolve,', 'companies are becoming increasingly more reliant on their data.', 'However,', 'before you can utilize any data for the benefit of your company,', 'you must first process both the structured and unstructured data that you collect.', 'While the simplest and most well-known form of data processing is data visualization,', 'there are several different data processing methods that are commonly used to interact with data.', 'Read on to learn more about the five types of data processing and how they differ in terms of availability,', 'atomicity,', 'concurrency,', 'and other factors.', 'Table of Contents ', 'Why', 'Does the Data Processing Method Matter?', 'Transaction Processing ', 'Distributed', 'Processing ', 'Real-time Processing ', 'Batch Processing ', 'Multiprocessing ', 'Preparing Your Data for Processing ', 'How Integrate.io Can HelpWhy', 'Does the Data Processing Method Matter?', 'The method of data processing you employ will determine the response time to a query and how reliable the output is.', 'Thus', 'the method needs to be chosen carefully.', 'For instance,', 'in a situation where availability is crucial,', 'such as a stock exchange portal,', 'transaction processing should be the preferred method.', 'It is important to note the difference between data processing and a data processing system.', 'Data processing is the rules by which data is converted into useful information.', 'A data processing system is an application that is optimized for a certain type of data processing.', 'For instance,', 'a timesharing system is designed to run timesharing processing optimally.', 'It can be used to run batch processing,', 'too.', 'However,', \"it won't scale very well for the job.\", 'In that sense,', 'when we talk about choosing the right data processing type for your needs,', 'we are referring to choosing the right system.', 'The following are the most common types of data processing and their applications.', 'Related Reading: Data Engineering: What is a Data Engineer and How Do I Become One?', '1.', 'Transaction Processing', 'Transaction processing is deployed in mission-critical situations.', 'These are situations,', 'which,', 'if', 'disrupted,', 'will adversely affect business operations.', 'For example,', 'processing stock exchange transactions,', 'as mentioned earlier.', 'In transaction processing,', 'availability is the most important factor.', 'Availability can be influenced by factors such as:Hardware: A transaction processing system should have redundant hardware.', 'Hardware redundancy allows for partial failures,', 'since redundant components can be automated to take over and keep the system running.', 'Software: The software of a transaction processing system should be designed to recover quickly from a failure.', 'Typically,', 'transaction processing systems use transaction abstraction to achieve this.', 'Simply put,', 'in case of a failure,', 'uncommitted transactions are aborted.', 'This allows the system to reboot quickly.', '2.', 'Distributed Processing', 'Very often', 'datasets are too big to fit on one machine.', 'Distributed data processing breaks down these large datasets and stores them across multiple machines or servers.', 'It rests on Hadoop Distributed File System (HDFS).', 'A distributed data processing system has a high fault tolerance.', 'If one server in the network fails,', 'the data processing tasks can be reallocated to other available servers.', 'Distributed processing can also be immensely cost-saving.', \"Businesses don't need to build expensive mainframe computers anymore and invest in their upkeep and maintenance.\", 'Stream processing and batch processing are common examples of distributed processing,', 'both of which are discussed below.', 'Get deep industry insights in your inbox once a month', 'Get exclusive tips and tricks,', 'industry best practices,', 'and insights from thought leaders every month!', 'Join The StackMonthly Newsletter 3.', 'Real-time Processing', 'Real-time processing is similar to transaction processing,', 'in that it is used in situations where output is expected in real-time.', 'However,', 'the two differ in terms of how they handle data loss.', 'Real-time processing computes incoming data as quickly as possible.', 'If it encounters an error in incoming data,', 'it ignores the error and moves to the next chunk of data coming in.', 'GPS-tracking applications are the most common example of real-time data processing.', 'Contrast this with transaction processing.', 'In case of an error,', 'such as a system failure,', 'transaction processing aborts ongoing processing and reinitializes.', 'Real-time processing is preferred over transaction processing in cases where approximate answers suffice.', 'In the world of data analytics,', 'stream processing is a common application of real-time data processing.', 'First popularized by Apache Storm,', 'stream processing analyzes data as it comes in.', 'Think data from IoT sensors,', 'or', 'tracking consumer activity in real-time.', 'Google BigQuery and Snowflake are examples of cloud data platforms that employ real-time processing.', 'Related Reading: The Ultimate Guide to Building a Data Pipeline ', '4.', 'Batch Processing', 'As the name suggests,', 'batch processing is when chunks of data,', 'stored', 'over a period of time', 'are analyzed together,', 'or in batches.', 'Batch processing is required when a large volume of data needs to be analyzed for detailed insights.', 'For example,', 'sales figures of a company over a period of time will typically undergo batch processing.', 'Since there is a large volume of data involved,', 'the system will take time to process it.', 'By processing the data in batches,', 'it saves on computational resources.', 'Batch processing is preferred over real-time processing when accuracy is more important than speed.', 'Additionally,', 'the efficiency of batch processing is also measured in terms of throughput.', 'Throughput is the amount of data processed per unit time.', '5.', 'Multiprocessing', 'Multiprocessing is the method of data processing where two or more than two processors work on the same dataset.', 'It might sound exactly like distributed processing,', 'but there is a difference.', 'In multiprocessing,', 'different processors reside within the same system.', 'Thus,', 'they are present in the same geographical location.', 'If there is a component failure,', 'it can reduce the speed of the system.', 'Distributed processing,', 'on the other hand,', 'uses servers that are independent of each other and can be present in different geographical locations.', 'Since almost all systems today come with the ability to process data in parallel,', 'almost every data processing system uses multiprocessing.', 'However,', 'in the context of this article,', 'multiprocessing can be seen as having an on-premise data processing system.', 'Typically,', 'companies that handle very sensitive information might choose on-premise data processing as opposed to distributed processing.', 'For example,', 'pharmaceutical companies or businesses working in the oil and gas extraction industry.', 'The most obvious downside of this kind of data processing is cost.', 'Building and maintaining in-house servers is very expensive.', 'The New Data Warehouse Stack for Tomorrow’s', 'Leaders', 'Low-code data warehouse tools & hundreds of connectors to unify your data & reportingTalk to an Expert Preparing your Data for Data Processing', 'Before data can be processed and analyzed,', 'it needs to be prepared,', 'so it can be read by algorithms.', 'Raw data needs to undergo ETL - extract,', 'transform,', 'load - to get to your data warehouse for processing.', 'Integrate.io simplifies the task of preparing your data for analysis.', 'With our cloud platform,', 'you can build ETL data pipelines within minutes.', 'The simple graphical interface does away with the need to write complex code.', 'There is integration support right out of the box for more than 100 popular data warehouses and SaaS applications.', 'And you can use APIs for quick customizations and flexibility.', 'With Integrate.io', 'you can spend less time processing your data,', 'so you have more time for analyzing it.', 'Learn more by scheduling a demo and experiencing our low-code platform for yourself.', 'Related Reading: Why ETL Data Modeling is Critical in 2021', 'How Integrate.io Can Help', 'If you’re looking for the right tools to easily extract,', 'transform,', 'and', 'load data in order for it to then be processed and analyzed,', 'Integrate.io can help.', 'With Integrate.io’s ETL pipelines,', 'the task of preparing your data for future analysis is made quite simple.', 'Ultimately,', 'with a complete toolkit for easily and efficiently building ETL data pipelines,', 'Integrate.io will be there to help with all of your data processing needs.', 'Are you ready to discover more about the many benefits the Integrate.io platform can provide to your company?', 'Contact our team today to schedule a 14-day demo or pilot and see how we can help you reach your goals.', 'big data integration']\n",
            "['DATA PROCESSING CYCLE', 'Introduction Data procesing refers to the transformating raw data into meaningful output.', 'Data can be done manually using a pen and paper,', 'mechanically using simple devices eg typewritter or electronically using modern dat processing toolseg computers Data collection involves getting the data/facts needed for processing from the point of its origin to the computer', 'Data Input- the collected data is converted into machine-readable form by an input device,', 'and send into the machine.', 'Processing is the transformation of the input data to a more meaningful form (information) in the CPU', 'Output is the production of the required information,', 'which may be input in future.', 'The difference between data collection and data capture.', 'Data capture is the process of obtaining data in a computer-sensible form for at the point of origin (the source document itself is prepared in a machine-sensible form for input)', 'Data collection involves getting the original data to the ‘processing centre’,', 'transcribing it,', 'converting it from one medium to another,', 'and', 'finally getting it into the computer.', 'Relevance of the term garbage in garbage out (GIGO) in reference to errors in data processing.', 'The accuracy of the data entered in the computer directly determines the accuracy of the information given out.', 'Give and explain two transcription and two computational errors committed during data processing.', 'Misreading errors: -they occur when the user reads source document incorrectly,', 'thus entering wrong values,', 'e.g. a user may confuse 5 in the number 586 with S,', 'and', 'type S86 instead.', 'Transposition errors: - they result from incorrect arrangement of characters (i.e.,', 'putting characters in the wrong order especially when keying data onto a diskette),', 'e.g. the user may enter 396 instead of 369 computational errors', 'Overflow errors: -An overflow occurs if the result from a calculation is too large to fit in the allocated memory space,', 'e.g.,', 'if the allocated memory space is able to store an 8-bit character,', 'then an overflow will occur if the result of the calculation gives a 9-bit number.', 'Underflow', 'Truncation: 0.784969 784', 'Rounding error:30.6666 7', 'Algorithm', 'or', 'logical errorsData integrity.', 'Data integrity refers to the dependability,', 'timeliness,', 'availability,', 'relevance,', 'accuracy & completeness of data/informationThreats to data integrity', 'Data integrity may be compromised through:Human error,', 'whether malicious or unintentional.', 'Transfer errors,', 'including unintended alterations or data compromise during transfer from one device to another.', 'Bugs,', 'viruses/malware,', 'hacking,', 'and', 'other cyber threats.', 'Compromised hardware,', 'such as a device or disk crash', '.', 'Ways of minimizing threats to data integrity.', 'Backing up the data on external storage media', 'Enforcing security measures to control access to data', 'Using error detection & correction software when transmitting data', 'Designing user interfaces that minimize chances of invalid data being entered.', 'DATA PROCESSING METHODS', 'Data processing methods', '1.', 'Manual Data Processing', 'In manual data processing', 'data is processed manually without using any machine or tool to get required results.', 'In manual data processing,', 'all the calculations and logical operations are performed manually on the data.', 'Similarly,', 'data is transferred manually from one place to another.', 'This method of data processing is very slow and errors may occur in the output.', 'Mostly,', 'is processed manually in many small business firms as well as government offices & institutions.', 'In an educational institute,', 'for example,', 'marks sheets,', 'fee receipts,', 'and other financial calculations (or transactions) are performed by hand.', 'This method is avoided as far as possible because of the very high probability of error,', 'labor intensive and very time consuming.', 'This type of data processing forms the very primitive stage when technology was not available or it was not affordable.', 'With the advancement in technology the dependency on manual methods has drastically decreased.', '2.', 'Mechanical Data Processing', 'In mechanical data processing method', 'data is processed by using different devices like typewriters,', 'mechanical printers or other mechanical devices.', 'This method of data processing is faster and more accurate than manual data processing.', 'These are faster than the manual mode but still forms the early stages of data processing.', 'With invention and evolution of more complex machines with better computing power this type of processing also started fading away.', 'Examination boards and printing press use mechanical data processing devices frequently.', '3.', 'Electronic Data Processing', 'Electronic data processing or EDP is the modern technique to process data.', 'The data is processed through computer;', 'Data and set of instructions are given to the computer as input and the computer automatically processes the data according to the given set of instructions.', 'The computer is also known as electronic data processing machine.', 'This method of processing data is very fast and accurate.', 'For example,', 'in a computerized education environment results of students are prepared through computer;', 'in banks,', 'accounts of customers are maintained (or processed) through computers etc.', 'a. Batch Processing', 'Batch Processing is a method where the information to be organized is sorted into groups to allow for efficient and sequential processing.', 'Online Processing is a method that utilizes Internet connections and equipment directly attached to a computer.', 'It is used mainly for information recording and research.', 'Real-Time Processing is a technique that has the ability to respond almost immediately to various signals in order to acquire and process information.', 'Distributed Processing is commonly utilized by remote workstations connected to one big central workstation or server.', 'ATMs are good examples of this data processing method.', 'b. Online Processing', 'This is a method that utilizes Internet connections and equipment directly attached to a computer.', 'This allows for the data stored in one place and being used at altogether different place.', 'Cloud computing can be considered as a example which uses this type of processing.', 'It is used mainly for information recording and research.', 'c. Real-Time Processing', 'This technique has the ability to respond almost immediately to various signals in order to acquire and process information.', 'These involve high maintainance andupfront cost attributed to very advanced technology and computing power.', 'Time saved is maximum in this case as the output is seen in real time.', 'For example in banking transactions Example of real time processingAirline reservation systems', 'Theatre', '(cinema) booking', 'Hotel reservations', 'Banking systems', 'Police', 'enquiry systems', 'Chemical', 'processing plants', 'Hospitals to monitor the progress of', 'a patient', 'Missile control systemsAdvantagesProvides up-to-date information', 'The information is readily available for instant decision-making', 'Provides better services to users/customers.', 'Fast &reliable', 'Reduces circulation of hardcopies.', 'DisadvantagesRequire complex Os & are very expensive', 'Not easy to develop', 'Real time systems usually use 2 or more processors to share the workloads,', 'which is expensive.', 'Require large communication equipment.', 'd. Distributed Processing', 'This method is commonly utilized by remote workstations connected to one big central workstation or server.', 'ATMs are good examples of this data processing method.', 'All the end machines run on a fixed software located at a particular place and makes use of exactly same information and sets of instruction.', 'The Differentiate between CPU bound jobs and I/O bound jobs.', 'CPU bound jobs require more of the CPU time to process these jobs.', 'Most of the work the I/O devices perform is on the Input;', 'and', 'Output;', 'hence,', 'they require very little CPU time.', 'Most companies are now shifting from the use of geographically distributed personal computers.', 'This method of data processing is known as Distributed Data Processing (DDP)', 'Three computing resources that can be distributed.', '-CPU (Processors) time', '-Files', '-Application software', '-Data/information/messages', '-Computer processing power', '-Memory', '(computer storage)', '- Input/Output devices,', 'e.g. printers', '-communication devices/communication port ', 'Examples of industries and business organizations that extensively use distributed processing systems.', 'Banks', 'Computerized retails stores,', 'e.g. supermarkets', 'Learning institutions with many departmental offices', 'Bureaus or communication cyber cafes', 'Airline reservation systems Benefits and three risks that might be associated with the distributed data Processing system.', 'The load on the host computer is greatly reducedThe use of low cost minicomputers minimizes the cost in data processing', 'Delays in data processing are reduced', 'Provides better services to the customers', 'There is less risk in case of system breakdown', 'The design & implementation of the system is less complex due to decentralization', 'The level of expertise required is less.', 'RisksData duplication is very common', 'Programming problems occur with microcomputers & minicomputers', 'Security threats,', 'i.e. the data & information sent one the network from one place to', 'another can be tapped,', 'or listened to by unauthorized parties', 'More training is needed for the users involved', 'It is expensive due to the extra cost of communication equipment.', 'The concept of multi-programming', 'A Multi-programming system allows the user to run 2 or more programs,', 'all of which are in the computer’s main memory,', 'at the same time.', 'Benefits that are derived from multi-programmingIt increases productivity of a computer', 'Reduces the CPU’s idle time', 'Reduces the incidence of peripheral bound operation  Advantages of storing data in computer files over the manual filing system Stored information takes up less space', 'Easier to update and modify', 'Provides faster access and retrieval of data', 'Reduces duplication of data or stored records', 'Cheaper', 'Enhances data integrity (i.e. accuracy and completeness) ', 'The difference between logical and physical computer files.', 'A logical file is viewed in terms of what data items it contains and what processing operations may be performed on the data', 'A physical file is viewed in terms of how the data items found in a file are arranged on the storage media and how they can be processed.', 'Arrange the following components of the information system data hierarchy in ascending order of complexity: Field,', 'Database,', 'Byte,', 'Record,', 'Bit,', 'and file  Bit Byte Field Record File Database TYPES OF COMPUTER FILESi)', 'Report file-', 'It contains a set of relatively permanent records extracted from the data in a master file.', 'They are used to prepare reports,', 'which can ve printed at a later date,', 'e.g. report on student’s class performance in the term,', 'extract of students who have not cleared their school fees,', 'report on absentees', 'ii)', 'Backup file-', 'Used to backup data or to hold duplicate copies of data/information from the computer’s fixed storage or main file for security purposes e.g. a copy of all the students admitted in a school fees,', 'report on absentees', 'iii) Reference file - Used for reference purposes.', 'It contains records that are fairly permanent or semi-permanent,', 'e.g.', 'Deductions in caution money,', 'wage rates,', 'tax deductions,', 'employees address,', 'price lists etc.', 'iv) Sort file – used to sort/rank data according to a given order,', 'e.g. ranking position in a class of students.', 'v) Transaction file - Is used to hold input data during transaction processing.', 'It is later used to update master files and audits daily,', 'weekly or monthly transaction.', 'FILE ORGANISATION METHODS What is file organization?', 'It is the way records are arranged (laid out) within a particular file or any secondary storage device in a computer', 'Refers to the way data is stored in a file', 'File organization is important because it determines the method of access,', 'efficiency,', 'flexibility and storage devices to be used.', 'Methods of file organizationi) Sequential and serial', 'In sequential file organization', 'records are stored in a sorted order using a', 'key field,', 'while in serial', ';', 'the records are stored in the order they come into the file,', 'and are not sorted in any way.', 'ii) Random and indexed-sequential', 'In random file organization', 'records are stored in the file randomly and accessed directly,', 'while in indexed –sequential,', 'the records are stored sequentially but accessed directly using an index.', 'iii) serial file organization', 'Records are in a file are stored and accessed one after another on a storage mediumiv) Indexed sequencial file organization method', 'Similar to sequential method,', 'only that an index is used to enable the computer to locate individual records on the storage media.', 'ELECTRONIC DATA PROCESSING MODES', 'This is the ways in which a computer under the influence of an operating system is designed to process data eg', 'a) Batch processing is the execution of a series of jobs in a program on a computer without manual intervention (non-interactive).', 'Strictly speaking,', 'it is a processing mode: the execution of a series of programs each on a set or \"batch\" of inputs,', 'rather than a single input (', 'which would instead be a custom job).', 'However,', 'this distinction has largely been lost,', 'and the series of steps in a batch process are often called a \"job\" or \"batch job\".', 'Batch processing has these benefits:=It can shift the time of job processing to when the computing resources are less busy.', 'It avoids idling the computing resources with minute-by-minute manual intervention and supervision.', 'By keeping high overall rate of utilization,', 'it amortizes the computer,', 'especially an expensive one.', 'It allows the system to use different priorities for interactive and non-interactive work.', 'Rather than running one program multiple times to process one transaction each time,', 'batch processes will run the program only once for many transactions,', 'reducing system overhead.', 'Disadvantages', '-', 'Users are unable to terminate a process during execution,', 'and', 'have to wait until execution completes.', 'b)']\n",
            "['Help Scout’s Data Processing Amendment v. 1.5 (as of Sept,', '2021).Introduction', 'to this AmendmentProcessing personal data in a secure,', 'fair,', 'and transparent way is extremely important to us at Help Scout.', 'As part of this effort,', 'we process personal data in accordance with EU Data Protection Laws including EU’s General Data Protection Regulation (“EU GDPR”),', '‘', 'and UK Data Protection Laws,', 'including the GDPR in such form as incorporated into the laws of the United Kingdom (UK) by virtue of the European Union (Withdrawal) Act 2018 and the UK Data Protection Act 2018 (“UK GDPR”),', 'to the extent applicable’.', 'We also process personal data in accordance with Non-EU and Non-UK Data Protection Laws governing the handling of various types of personal data including the California Consumer Privacy Act (“CCPA”),', 'Health Insurance Portability and Accountability Act (“HIPAA”),', 'and Payment card industry compliance (“PCI”).To better protect individuals’ personal data,', 'we are providing these terms to govern Help Scout’s and your handling of personal data (the “Data Processing Amendment” or “DPA”).', 'This DPA forms part of,', 'and amends the Terms of Service (“ToS”) and requires no further action on your part.', 'If you do not agree to this DPA,', 'you may discontinue the use of the Help Scout service and cancel your account.', 'DefinitionsIt is important that all parties understand what data and whose data is protected under this DPA.', 'Each party has respective obligations to protect personal data;', 'therefore,', 'the following definitions explain the scope of this DPA and the mutual commitments to protect personal data.', '“Help Scout”,', '“we”,', '“us”,', 'or “our” refers to the provider of the Help Scout website and services,', '(', 'collectively referred to as the “Help Scout Service.', '”).“You” or “Customer” refers to the company or organization that signs up to use the Help Scout Service to manage the relationships with your consumers or service users.', '“Party” refers to Help Scout and/or the customer depending on the context.', '“Personnel” refers to those individuals who are employed by or are under contract to perform a service on behalf of one of the parties.', 'Personnel may have rights in their personal data (including business contact information) if they reside in the EU.', 'It is important to be clear about how personnel’s rights are protected.', '“Sub-processor” is a Third-party,', 'independent contractors,', 'vendors and suppliers who provide specific services and products related to the Help Scout website and our services,', 'such as hosting,', 'credit card processing and fraud screening,', 'and mailing list hosting (“third-party” or “outside contractor” shall have similar meanings).“Incident” means: (a) a complaint or a request with respect to the exercise of an individual’s rights under the GDPR;', '(', 'b) an investigation into or seizure of the personal data by government officials,', 'or a specific indication that such an investigation or seizure is imminent;', 'or (c) any breach of the security and/or confidentiality as set out in this DPA leading to the accidental or unlawful destruction,', 'loss,', 'alteration,', 'unauthorized disclosure of,', 'or access to,', 'the personal data,', 'or any indication of such breach having taken place or being about to take place.', 'The terms,', '“', 'Data Subject”,', '“', 'Personal Data”,', '“', 'Member State”,', '“', 'Controller”,', '“Processor”,', 'and “Processing” shall have the same meaning as in the GDPR,', 'and their cognate terms shall be construed accordingly.', '‘Data', 'Protection Law’ means all applicable legislation relating to data protection and privacy including without limitation the EU GDPR,', '(together with any national implementing laws in any Member State of the European Union or,', 'to the extent applicable,', 'in any other country),', 'the UK GDPR,', 'and', 'the Swiss Federal Act of 19 June 1992 on Data Protection,', 'the Ordinance to the Swiss Federal Act on Data Protection and the revised Swiss Federal Act of 25 September 2020 on Data Protection which comes into force on 01 January 2023 (together the “Swiss FADP”);', 'each as amended,', 'repealed,', 'consolidated or replaced from time', 'to time‘EU Standard Contractual Clauses’ means the Annex to the European Commission’s decision of 4 June 2021 on Standard Contractual Clauses for transfer of personal data to third countries which do not ensure an adequate level of data protection pursuant to the GDPR‘UK International Data Transfer Addendum’ means the UK International Data Transfer Addendum to the EU Standard Contractual Clauses (version B.1.0) issued by the UK Information Commissioner and laid before Parliament in accordance with s119A of the Data Protection Act 2018 on 2 February 2022 (as it is revised under its Section 18) to facilitate the international transfer of Personal Data in compliance with the UK GDPR.For the sake of readability,', 'we do not use initial capitalization of defined terms in this DPA.', 'Defined terms are defined terms,', 'irrespective of their format.1.', 'Undertakings regarding personal data', 'Each party agrees that personal data shall be treated as confidential information under this DPA.', 'In addition,', 'each party shall at all times comply with applicable laws relating to data protection in the relevant jurisdiction with respect to each other’s personal data.', 'Personal Data shall remain the property of the disclosing party.', 'Help Scout acknowledges that customer is the controller and maintains control over data subject’s personal data.', 'Help Scout will process customer’s personal data only to the extent strictly necessary for the purpose of providing the services in accordance with the ToS and any further written instructions from the customer that are mutually agreed upon in writing.', 'The details of the processing of personal data as required by Article 28(3) GDPR are set out at Annex B.  Help Scout agrees that:    it will implement and maintain a reasonable and appropriate security program comprising adequate security,', 'technical and organizational measures to protect against unauthorized,', 'unlawful or accidental processing,', 'use,', 'erasure,', 'loss or destruction of,', 'or damage to,', 'customer personal data;', 'it will not modify,', 'alter,', 'delete,', 'publish or disclose any customer personal data to any third party,', 'nor allow any third party to process such personal data on Help Scout’s behalf unless the third party is bound to similar confidentiality and data handling provisions;', 'it shall ensure that access to personal data is limited to those personnel who require such access to perform its obligations under the ToS,', 'and its personnel engaged in the processing of personal data are informed of the confidential nature of the personal data,', 'have received appropriate training on their responsibilities and have executed written confidentiality agreements.', 'Help Scout shall ensure that such confidentiality obligations survive the termination of the personnel engagement;', 'and', 'it will only process customer personal data to the extent necessary to perform its obligations under the ToS,', 'upon written instructions of the customer (only as mutually agreed upon),', 'and in accordance with applicable laws.', 'Upon termination of your account,', 'Help Scout will delete,', 'or at customer’s request,', 'return all personal data in accordance with our standard backup and retention policy per the ToS,', 'normally,', 'no later than 90 days,', 'unless we are required to retain personal data due to Union,', 'Member State or United States laws;', 'in which case Help Scout reserves the right to retain personal data.', 'The parties acknowledge that customer may from time to time be in possession of personal data relating to Help Scout’s personnel in connection with the use of the Help Scout Service.', 'Help Scout warrants that it has provided to such personnel all necessary notifications and obtained all necessary consents,', 'authorizations,', 'approvals and/or agreements as required under any applicable law', 'in order to enable: (i) the disclosure of Help Scout’s personnel personal data to customer in connection with the customer’s use of the Help Scout Service;', 'and (ii) further processing of such Help Scout personal data by customer for the purpose of using the Help Scout Service.', '2.', 'Undertakings regarding sub-processors', 'The parties acknowledge that Help Scout may engage third-party sub-processors in connection with the obligations of the ToS. For any sub-processor with which Help Scout engages,', 'we will enter into a written agreement containing data protection obligations no less protective than those in this amendment and as required to protect customer’s personal data to the standard required by the GDPR', 'Help Scout shall make available to customer the current list of sub-processors by posting that list online at: https://www.helpscout.com/company/legal/sub-processors/. Help Scout shall notify customer in writing,', 'including by email if it adds or removes sub-processors at least 10 days prior to any such changes if customer opts in to receive such notifications by signing up here.', 'Customer may object to a new sub-processor appointment or replacement,', 'provided such objection is based on reasonable grounds related to data protection.', 'Help Scout will use reasonable efforts to work in good faith with customer to find an acceptable,', 'reasonable,', 'alternate solution.', 'If the parties are not able to agree to an alternate solution,', 'customer may suspend or terminate their account.', 'Customer acknowledges and agrees that customer is solely responsible for subscribing to notifications of sub-processors as set out above.', 'Help Scout shall have no obligation to inform customer of any new sub-processors in case of failure by customer to subscribe to such notifications pursuant to this Section 2.b.', 'For the avoidance of doubt,', 'the above authorization to the engagement of sub-processors constitutes customer’s prior written consent to the sub-processing by Help Scout for purposes of Clause 9 of the Standard Contractual Clauses.', '3.', 'Customer undertakings and Help Scout’s assistance', 'Customer warrants that it has all necessary rights to provide to Help Scout the personal data for processing in connection with the provision of the Help Scout Services.', 'To the extent required by applicable law,', 'customer is responsible for ensuring that any data subject consents that may be necessary to this processing are obtained,', 'and', 'for ensuring that a record of such consents is maintained,', 'including any consent to use personal data that is obtained from third parties.', 'Should such consent be revoked by a data subject,', 'customer is responsible for communicating the fact of such revocation to Help Scout,', 'and', 'Help Scout remains responsible for implementing any customer instruction with respect to the further processing of that personal data,', 'or', 'as may be in accordance with any of Help Scout’s legal obligations.', 'Customer understands,', 'as a controller,', 'that it is responsible (as between customer and Help Scout) for:    determining the lawfulness of any processing,', 'performing any required data protection impact assessments,', 'and', 'accounting to regulators and individuals,', 'as may be needed;', 'making reasonable efforts to verify parental consent when data is collected on a data subject under 16 years of age;', 'providing relevant privacy notices to data subjects as may be required in your jurisdiction,', 'including notice of their rights and provide the mechanisms for individuals to exercise those rights;', 'responding to requests from individuals about their data and the processing of the same,', 'including requests to have personal data altered,', 'corrected,', 'or', 'erased,', 'and', 'providing copies of the actual data processed;', 'implementing your own appropriate technical and organizational measures to ensure and demonstrate processing in accord with this DPA;', 'notifying individuals and any relevant regulators or authorities of any incident as may be required by law in your jurisdiction.', 'Help Scout shall assist the customer by implementing appropriate technical and organizational measures,', 'insofar as this is reasonably and commercially possible,', 'in fulfilling customer’s obligations to respond to individuals’ requests to exercise rights under the GDPR.', 'Help Scout shall assist the customer by implementing appropriate technical and organizational measures,', 'insofar as this is reasonably and commercially possible,', 'to ensure compliance with articles 32 to 36 (inclusive) of the GDPR.', 'On an annual basis,', 'Help Scout will procure an independent audit of its code base and systems by independent third parties to demonstrate compliance with its obligations under this DPA.', 'Upon customer request,', 'and', 'subject to confidentiality obligations,', 'Help Scout shall make available to customer information reasonably necessary to demonstrate compliance with Help Scout’s obligations under this DPA.', 'At a minimum,', 'upon written request,', 'Help Scout will produce to customer an executive summary of any third-party audit reports concerning the adequacy of Help Scout’s technical security measures as described in the Security Policy.', 'Customer may contact Help Scout in writing to schedule an audit of the procedures relevant to the protection of personal data.', \"Customer shall reimburse Help Scout for any time or resources expended for any such on-site audit at the Help Scout's then-current professional services rates,\", 'which shall be made available to customer upon request.', 'Before the commencement of any such on-site audit,', 'customer', 'and', 'Help Scout shall mutually agree upon the scope,', 'timing,', 'and', 'duration of the audit.', 'Customer shall promptly notify Help Scout with information regarding any non-compliance discovered during the course of an audit.', '4.', 'Incident Management', 'When either party becomes aware of an incident that impacts the processing of personal data,', 'it shall promptly notify the other about the incident and shall reasonably cooperate in order to enable the other party to perform a thorough investigation into the incident,', 'to formulate a correct response,', 'and to take suitable further steps in respect of the incident.', 'Both parties shall at all times have in place written procedures which enable them to promptly respond to the other about an incident.', 'Where the incident is reasonably likely to require a data breach notification under applicable laws,', 'the party responsible for the incident shall notify the other without undue delay of having become aware of such an incident.', 'Any notifications made under this section shall be made to privacy@helpscout.com (when made to Help Scout) and to our point of contact with you (when made to the customer),', 'and shall contain: (i) a description of the nature of the incident,', 'including,', 'where possible,', 'the categories and approximate number of individuals concerned and the categories and approximate number of records concerned;', '(ii) the name and contact details of the point of contact where more information can be obtained;', '(iii) a description of the likely consequences of the incident;', 'and (iv) a description of the measures taken or proposed to be taken to address the incident including,', 'where appropriate,', 'measures to mitigate its possible adverse effects.', '5.', 'Liability and Indemnity', 'Each party’s liability towards the other party under or in connection with this DPA will be limited in accordance with the provisions of the ToS.', 'The customer acknowledges that Help Scout is reliant on the customer for direction as to the extent to which Help Scout is entitled to process customer’s personal data on behalf of customer in performance of the Services.', 'Consequently Help Scout will not be liable under the ToS for any claim brought by a data subject arising from any action or omission by Help Scout,', 'to the extent that such action or omission resulted from the customer’s instructions or from customer’s failure to comply with its obligations under the applicable data protection law.', '6.', 'Duration and Termination', 'This DPA shall come into effect on May 25,', '2018', 'and shall continue until it is changed or terminated in accordance with the ToS.', 'Termination or expiration of this DPA shall not discharge the parties from the confidentiality obligations herein.', '7.', 'International Data Transfers', 'Data center locations.', 'Customer acknowledges that Help Scout may transfer and process personal data to and in the United States and anywhere else in the world where Help Scout,', 'its affiliates or its sub-processors maintain data processing operations.', 'Help Scout shall at all times ensure that such transfers are made in compliance with the requirements of Data Protection Laws.', 'UK and EU Data transfers.', 'Help Scout agrees to comply with the provisions of the EU Standard Contractual Clauses set out in Annex B in relation to its processing of personal data subject to the EU GDPR,', 'and the UK International Data Transfer Addendum set out in Annex C in relation to its processing of personal data subject to the UK GDPR.', 'Switzerland Data transfers.', 'Help Scout agrees to comply with the provisions of the EU Standard Contractual Clauses set out in Annex B in relation to its processing of personal data subject to the Swiss FADP (“Swiss Data”).', 'In relation to the transfer of Swiss Data,', 'the EU Standard Contractual Clauses are amended as follows:    Any references to EU legislation,', 'EU authorities and the EU Member States in the EU Standard Contractual Clauses are amended to reflect corresponding Switzerland legislation,', 'Switzerland authorities and Switzerland as appropriate', 'The Supervisory Authority selected for the purposes of Clause 13 (Supervision) of the EU  Standard Contractual Clauses is the Swiss Federal Data Protection and Information Commissioner (FDPIC).', 'Clause 17 (Governing law) of the EU Standard Contractual Clauses shall refer to the law of Switzerland as the governing law and Clause 18 (Choice of forum and jurisdiction) shall refer to the Swiss courts as the proper forum and jurisdiction for disputes and legal proceedings arising.', 'Jurisdiction-Specific Terms', 'To the extent', 'Help Scout processes personal data originating from and protected by Data Protection Laws in one of the jurisdictions listed in Annex A,', 'then the terms specified in Annex A with respect to the applicable jurisdiction(s) (“Jurisdiction-Specific Terms”) apply in addition to the terms of this DPA.', 'In the event of any conflict or ambiguity between the Jurisdiction-Specific Terms and any other terms of this DPA,', 'the applicable Jurisdiction-Specific Terms will take precedence,', 'but only to the extent of the Jurisdiction-Specific Terms’ applicability to Help Scout.', 'Annex A - Jurisdiction-Specific TermsBrazil', 'Upon the entry into force of the Brazil’s General Data Protection Law,', 'Lei Geral de Proteção de Dados (“LGPD”) the following will apply:  each party is responsible to fulfill its respective obligations set out in the LGPD,', 'and Customer will only issue Processing instructions,', 'as set forth in Section 1 (Undertakings regarding personal data) of the DPA,', 'that enable Help Scout to fulfill its LGPD obligations.', 'For the purpose of Section 7 (International Data Transfers),', 'the Standard Contractual Clauses will be used for transfers to Non-Adequate Countries as per the GDPR.', 'California', 'The definitions of: “controller” includes “Business”;', '\"processor\" includes “Service Provider”;', '“data subject” includes “Consumer”;', '“personal data” includes “Personal Information”;', 'in each case as defined under CCPA.', '“Process,', '” “Processed” or “Processing” means any operation or set of operations which is performed on Personal Information,', 'or', 'on sets of Personal Information,', 'whether or not by automated means', '.', 'Help Scout’s obligations regarding data subject requests,', 'as described in Section 3(d) and 3(e) (data subject rights and cooperation) of this DPA,', 'apply to Consumer’s rights under the CCPA.', 'Notwithstanding anything to the contrary,', 'Customer Personal Information is the Personal Information that Help Scout processes on behalf of Customer under the Agreement.', 'Help Scout may Process Customer Personal Information for the sole purpose of performing its obligations under the Agreement and shall not use Customer Personal Information for any other purpose without the express written consent of Customer.', 'In particular,', 'Help Scout shall not: (i) sell,', 'as it is defined in the CCPA,', 'Customer Personal Information or share Customer Personal Information with any third party without Customer’s permission;', '(ii) retain,', 'Customer or disclose Customer Personal Information for any purpose other than the purposes specified in this Agreement,', 'including retaining,', 'using or disclosing Customer Personal Information for a commercial purpose other than to provide its services to Customer;', 'and (iii) retain,', 'use or disclose Customer Personal Information outside of Help Scout’s business relationship with Customer.', 'The parties acknowledge that any disclosure of Customer Personal Information pursuant to the Agreement does not confer any value under the Agreement.', 'Help Scout shall comply with all applicable requirements of the CCPA in the performance of its obligations under the Agreement,', 'including implementing and maintaining reasonable security measures appropriate to the nature of the Personal Information,', 'in order to protect Customer Personal Information from unauthorized access,', 'destruction,', 'use,', 'modification,', 'or', 'disclosure.', 'Help Scout undertakes to repair any harm any person may suffer due to Processing performed in violation of', 'its legal,', 'regulatory and contractual obligations,', 'except if Help Scout proves that it is not liable for such harm.', 'Help Scout may de-identify or aggregate personal data as part of performing the Service specified in this DPA and the Agreement.', 'Where sub-processors process the personal data of our customers,', 'Help Scout takes steps to ensure that such sub-processors are Service Providers under the CCPA with whom Help Scout has entered into a written contract that includes terms substantially similar to this DPA or are otherwise exempt from the CCPA’s definition of “sale”.', 'Help Scout conducts appropriate due diligence on its sub-processors.', 'Canada', \"Help Scout takes steps to ensure that Help Scout's sub-processors,\", 'as described in Section 2 of the DPA,', 'are third parties under PIPEDA,', 'with whom Help Scout has entered into a written contract that includes terms substantially similar to this DPA.', 'Help Scout conducts appropriate due diligence on its sub-processors.', 'Help Scout will implement and maintain reasonable security measures appropriate to the nature of the Personal Information as set forth in Section 1 of the DPA.', 'Serbia', 'Law on Personal Data Protection (Zakon o zaštiti podataka o ličnosti;', 'Official Gazette of the Republic of Serbia,', 'no 87/2018).', 'United Kingdom', 'The Data Protection,', 'Privacy and Electronic Communications (Amendments etc) (EU Exit) Regulations 2019,', 'as amended,', 'superseded or replaced,', 'once entering into force,', 'and', 'the UK Data Protection Act 2018.', 'Annex B — Standard Contractual Clauses (Processors)Section 1Clause 1Purpose and scope', 'The purpose of these standard contractual clauses is to ensure compliance with the  requirements of Regulation (EU) 2016/679 of the European Parliament and of the Council of  27 April 2016 on the protection of natural persons with regard to the processing of personal  data and on the free movement of such data (General Data Protection Regulation) for the  transfer of personal data to a third country.', 'The Parties:    the natural or legal person(s),', 'public authority/ies,', 'agency/ies or other body/ies      (hereinafter ‘entity/ies’) transferring the personal data,', 'as listed in Annex I.A      (hereinafter each ‘data exporter’),', 'and', 'the entity/ies in a third country receiving the personal data from the data exporter,', 'directly or indirectly via another entity also Party to these Clauses,', 'as listed in Annex I.A (hereinafter each ‘data importer’)    have agreed to these standard contractual clauses (hereinafter: ‘Clauses’).', '  ', 'These Clauses apply with respect to the transfer of personal data as specified in Annex I.B.', 'The Appendix to these Clauses containing the Annexes referred to therein forms an integral part of these Clauses.', 'Clause 2Effect and invariability of the Clauses', 'These Clauses set out appropriate safeguards,', 'including enforceable data subject rights and effective legal remedies,', 'pursuant to Article 46(1) and Article 46 (2)(c) of Regulation (EU) 2016/679 and,', 'with respect to data transfers from controllers to processors and/or processors to processors,', 'standard contractual clauses pursuant to Article 28(7) of Regulation (EU) 2016/679,', 'provided they are not modified,', 'except to select the appropriate Module(s) or to add or update information in the Appendix.', 'This does not prevent the Parties from including the standard contractual clauses laid down in these Clauses in a wider contract and/or to add other clauses or additional safeguards,', 'provided that they do not contradict,', 'directly or indirectly,', 'these Clauses or prejudice the fundamental rights or freedoms of data subjects.', 'These Clauses are without prejudice to obligations to which the data exporter is subject by virtue of Regulation (EU) 2016/679.', 'Clause 3Third-party beneficiaries', 'Data subjects may invoke and enforce these Clauses,', 'as third-party beneficiaries,', 'against the data exporter and/or data importer,', 'with the following exceptions:    Clause 1,', 'Clause 2,', 'Clause 3,', 'Clause 6,', 'Clause 7;', 'Clause 8.1(b),', '8.9(a),', '(c),', '(d) and (e);', 'Clause 9(a),', '(c),', '(d) and (e);', 'Clause 12(a),', '(d) and (f);', 'Clause 13;', 'Clause 15.1(c),', '(d) and (e);', 'Clause 16(e);', 'Clause 18(a) and (b).', 'Paragraph (a) is without prejudice to rights of data subjects under Regulation (EU)2016/679.', 'Clause 4Interpretation', 'Where these Clauses use terms that are defined in Regulation (EU) 2016/679,', 'those terms', 'shall have the same meaning as in that Regulation.', 'These Clauses shall be read and interpreted in the light of the provisions of Regulation (EU) 2016/679.', 'These Clauses shall not be interpreted in a way that conflicts with rights and obligations provided for in Regulation (EU) 2016/679.', 'Clause 5HierarchyIn the event of a contradiction between these Clauses and the provisions of related agreementsbetween the Parties,', 'existing at the time these Clauses are agreed or entered into thereafter', 'these Clauses shall prevail.', 'Clause 6Description of the transfer(s)The details of the transfer(s),', 'and', 'in particular the categories of personal data that are transferred and the purpose(s) for which they are transferred,', 'are specified in Annex I.B.Clause 7 - OptionalDocking clause', 'An entity that is not a Party to these Clauses may,', 'with the agreement of the Parties,', 'accede to these Clauses at any time,', 'either as a data exporter or as a data importer,', 'by completing the Appendix and signing Annex I.A.', 'Once it has completed the Appendix and signed Annex I.A,', 'the acceding entity shall become a Party to these Clauses and have the rights and obligations of a data exporter or data importer in accordance with its designation in Annex I.A.', 'The acceding entity shall have no rights or obligations arising under these Clauses from the period prior to becoming a Party.', 'Section 2 - Obligations of the PartiesClause 8Data protection safeguardsThe data exporter warrants that it has used reasonable efforts to determine that the data importer is able,', 'through the implementation of appropriate technical and organisational measures,', 'to satisfy its obligations under these Clauses.8.1 Instructions', 'The data importer shall process the personal data only on documented instructions from the data exporter.', 'The data exporter may give such instructions throughout the duration of the contract.', 'The data importer shall immediately inform the data exporter if it is unable to follow those instructions.', '8.2 Purpose limitationThe data importer shall process the personal data only for the specific purpose(s) of the transfer,', 'as set', 'out in Annex I.B,', 'unless on further instructions from the data exporter.8.3 TransparencyOn request', 'the data exporter shall make a copy of these Clauses,', 'including the Appendix as completed by the Parties,', 'available to the data subject free of charge.', 'To the extent necessary to protect business secrets or other confidential information,', 'including the measures described in Annex II and personal data', 'the data exporter may redact part of the text of the Appendix tothese Clauses prior to sharing a copy,', 'but shall provide a meaningful summary where the data subject would otherwise not be able to understand the its content or exercise his/her rights.', 'On request,', 'the Parties shall provide the data subject with the reasons for the redactions,', 'to the extent possible without revealing the redacted information.', 'This Clause is without prejudice to the obligations of the data exporter under Articles 13 and 14 of Regulation (EU) 2016/679.8.4 AccuracyIf the data importer becomes aware that the personal data it has received is inaccurate,', 'or', 'has become outdated,', 'it shall inform the data exporter without undue delay.', 'In this case,', 'the data importer shall cooperate with the data exporter to erase or rectify the data.8.5 Duration of processing and erasure or return of dataProcessing by the data importer shall only take place for the duration specified in Annex I.B.', 'After the end of the provision of the processing services', 'the data importer shall,', 'at the choice of the data exporter,', 'delete all personal data processed on behalf of the data exporter and certify to the data exporter that it has done so,', 'or return to the data exporter all personal data processed on its behalf and delete existing copies.', 'Until the data is deleted or returned,', 'the data importer shall continue to ensure compliance with these Clauses.', 'In case of local laws applicable to the data importer that prohibit return or deletion of the personal data,', 'the data importer warrants that it will continue to ensure compliance with these Clauses and will only process it to the extent and for as long as required under that local law.', 'This is without prejudice to Clause 14,', 'in particular the requirement for the data importer under Clause 14(e) to notify the data exporter throughout the duration of the contract if it has reason to believe that it is or has become subject to laws or practices not in line with the requirements under Clause 14(a).8.6 Security of processing', 'The data importer and,', 'during transmission,', 'also the data exporter shall implement appropriate technical and organisational measures to ensure the security of the data,', 'including protection against a breach of security leading to accidental or unlawful destruction,', 'loss,', 'alteration,', 'unauthorised disclosure or access to that data (hereinafter‘personal data breach’)', '.', 'In assessing the appropriate level of security,', 'the Parties shall take due account of the state of the art,', 'the costs of implementation,', 'the nature,', 'scope,', 'context and purpose(s) of processing and the risks involved in the processing for the data subjects.', 'The Parties shall in particular consider having recourse to encryption or pseudonymisation,', 'including during transmission,', 'where the purpose of processing can be fulfilled in that manner.', 'In case of pseudonymisation,', 'the additional information for attributing the personal data to a specific data subject shall,', 'where possible,', 'remain under the exclusive control of the data exporter.', 'In complying with its obligations under this paragraph,', 'the data importer shall at least implement the technical and organisational measures specified in Annex II.', 'The data importer shall carry out regular checks to ensure that these measures continue to provide an appropriate level of security.', 'The data importer shall grant access to the personal data to members of its personnel only to the extent strictly necessary for the implementation,', 'management and monitoring of the contract.', 'It shall ensure that persons authorised to process the personal data have committed themselves to confidentiality or are under an appropriate statutory obligation of confidentiality.', 'In the event of a personal data breach concerning personal data processed by the dataimporterunder these Clauses,', 'the data importer shall take appropriate measures to address the breach,', 'including measures to mitigate its adverse effects.', 'The data importer shall also notify the data exporter without undue delay after having become aware of the breach.', 'Such notification shall contain the details of a contact point where more information can be obtained,', 'a description of the nature of the breach (including,', 'where possible,', 'categories and approximate number of data subjects and personal data records concerned),', 'its likely consequences and the measures taken or proposed to address the breach including,', 'where appropriate,', 'measures to mitigate its possible adverse effects.', 'Where,', 'and in so far as', 'it is not possible to provide all information at the same time,', 'the initial notification shall contain the information then available and further information shall,', 'as it becomes available,', 'subsequently be provided without undue delay.', 'The data importer shall cooperate with and assist the data exporter to enable the data exporter to comply with its obligations under Regulation (EU) 2016/679,', 'in particular to notify the competent supervisory authority and the affected data subjects,', 'taking into account the nature of processing and the information available to the data importer.', '8.7 Sensitive dataWhere the transfer involves personal data revealing racial or ethnic origin,', 'political opinions,', 'religious or philosophical beliefs,', 'or', 'trade union membership,', 'genetic data,', 'or biometric data for the purpose of uniquely identifying a natural person,', 'data concerning health or a person’s sex life or sexual orientation,', 'or data relating to criminal convictions and offences (hereinafter ‘sensitive data’),', 'the data importer shall apply the specific restrictions and/or additional safeguards described in Annex I.B.8.8', 'Onward transfersThe data importer shall only disclose the personal data to a third party on documented instructions from the data exporter.', 'In addition,', 'the data may only be disclosed to a third party located outside the European Union (in the same country as the data importer or in another third country,', 'hereinafter ‘onward transfer’) if the third party is or agrees to be bound by these Clauses,', 'under the appropriate Module,', 'or if:', 'the onward transfer is to a country benefitting from an adequacy decision pursuant to', 'Article 45 of Regulation (EU) 2016/679 that covers the onward transfer;', 'the third party otherwise ensures appropriate safeguards pursuant to Articles 46 or 47', 'Regulation of (EU) 2016/679 with respect to the processing in question;', 'the onward transfer is necessary for the establishment,', 'exercise or defence of legal', 'claims in the context of specific administrative,', 'regulatory or judicial proceedings;', 'or', 'the onward transfer is necessary in order to protect the vital interests of the datasubject or of another natural person.', 'Any onward transfer is subject to compliance by the data importer with all the other safeguards under', 'these Clauses,', 'in particular purpose limitation.8.9 Documentation and compliance', 'The data importer shall promptly and adequately deal with enquiries from the data exporter that relate to the processing under these Clauses.', 'The Parties shall be able to demonstrate compliance with these Clauses.', 'In particular,', 'the data importer shall keep appropriate documentation on the processing activities carried out on behalf of the data exporter.', 'The data importer shall make available to the data exporter all information necessary to demonstrate compliance with the obligations set out in these Clauses and at the data exporter’s request,', 'allow for and contribute to audits of the processing activities covered by these Clauses,', 'at reasonable intervals or if there are indications of non-compliance.', 'In deciding on a review or audit,', 'the data exporter may take into account relevant certifications held by the data importer.', 'The data exporter may choose to conduct the audit by itself or mandate an independent auditor.', 'Audits may include inspections at the premises or physical facilities of the data importer and shall,', 'where appropriate,', 'be', 'carried out with reasonable notice.', 'The Parties shall make the information referred to in paragraphs (b) and (c),', 'including the results of any audits,', 'available to the competent supervisory authority on request.', 'Clause 9Use of sub-processors', 'GENERAL WRITTEN AUTHORISATION', 'The data importer has the data exporter’s general authorisation for the engagement of sub-processor(s) from an agreed list.', 'The data importer shall specifically inform the data exporter in writing of any intended changes to that list through the addition or replacement of sub-processors at least ten(10) days in advance,', 'thereby giving the data exporter sufficient time to be able to object to such changes prior to the engagement of the sub-processor(s).', 'The data importer shall provide the data exporter with the information necessary to enable the data exporter to exercise its right to object.', 'Where the data importer engages a sub-processor to carry out specific processing activities (on behalf of the data exporter),', 'it shall do so by way of a written contract that provides for,', 'in substance,', 'the same data protection obligations as those binding the data importer under these  ACTIVE/110240378.1 7 Clauses,', 'including in terms of third-party beneficiary rights for data subjects.', '1', 'The Parties agree that,', 'by complying with this Clause,', 'the data importer fulfils its obligations under Clause 8.8.', 'The data importer shall ensure that the sub-processor complies with the obligations to which the data importer is subject pursuant to these Clauses.', 'The data importer shall provide,', 'at the data exporter’s request,', 'a copy of such a sub- processor agreement and any subsequent amendments to the data exporter.', 'To the extent necessary to protect business secrets or other confidential information,', 'including personal data', 'the data importer may redact the text of the agreement prior to sharing a copy.', 'The data importer shall remain fully responsible to the data exporter for the performance of the sub-processor’s obligations under its contract with the data importer.', 'The data importer shall notify the data exporter of any failure by the sub- processor to fulfil its obligations under that contract', 'The data importer shall agree a third-party beneficiary clause with the sub-processor whereby -- in the event the data importer has factually disappeared,', 'ceased to exist in law or has become insolvent -- the data exporter shall have the right to terminate the sub-processor contract and to instruct the sub-processor to erase or return the personal data.', 'Clause 10Data subject rights', 'The data importer shall promptly notify the data exporter of any request it has received from a data subject.', 'It shall not respond to that request itself unless it has been authorised to do so by the data exporter.', 'The data importer shall assist the data exporter in fulfilling its obligations to respond to data subjects’ requests for the exercise of their rights under Regulation (EU) 2016/679.', 'In this regard', 'the Parties shall set out in Annex II the appropriate technical and organisational measures,', 'taking into account the nature of the processing,', 'by which the assistance shall be provided,', 'as well as the scope and the extent of the assistance required', '.', 'In fulfilling its obligations under paragraphs (a) and (b),', 'the data importer shall comply with the instructions from the data exporter.', 'Clause 11Redress', 'The data importer shall inform data subjects in a transparent and easily accessible format,', 'through individual notice or on its website,', 'of a contact point authorised to handle complaints.', 'It shall deal promptly with any complaints it receives from a data subject.', 'In case of a dispute between a data subject and one of the Parties as regards compliance with these Clauses,', 'that Party shall use its best efforts to resolve the issue amicably in a timely fashion.', 'The Parties shall keep each other informed about such disputes and,', 'where ACTIVE/110240378.1 8 appropriate,', 'cooperate in resolving them.', 'Where the data subject invokes a third-party beneficiary right pursuant to Clause 3,', 'the data importer shall accept the decision of the data subject to:    lodge a complaint with the supervisory authority in the Member State of his/herhabitual residence or place of work,', 'or', 'the competent supervisory authority pursuant to Clause 13;', 'refer the dispute to the competent courts within the meaning of Clause 18.', 'The Parties accept that the data subject may be represented by a not-for-profit body,', 'organisation or association under the conditions set out in Article 80(1) of Regulation(EU)', '2016/679.', 'The data importer shall abide by a decision that is binding under the applicable EU or Member State law.', 'The data importer agrees that the choice made by the data subject will not prejudice his/her substantive and procedural rights to seek remedies in accordance with applicable laws.', 'Clause 12Liability', 'Each Party shall be liable to the other Party/ies for any damages it causes the other Party/ies by any breach of these Clauses.', 'The data importer shall be liable to the data subject,', 'and the data subject shall be entitled to receive compensation,', 'for any material or non-material damages the data importer or its subprocessor causes the data subject by breaching the third-party beneficiary rights under these Clauses.', 'Notwithstanding paragraph (b),', 'the data exporter shall be liable to the data subject,', 'and the data subject shall be entitled to receive compensation,', 'for any material or non-material damages the data exporter or the data importer (or its sub-processor) causes the data subject by breaching the third-party beneficiary rights under these Clauses.', 'This is without prejudice to the liability of the data exporter and,', 'where the data exporter is a processor acting on behalf of a controller,', 'to the liability of the controller under Regulation (EU) 2016/679 or Regulation (EU) 2018/1725,', 'as applicable.', 'The Parties agree that if the data exporter is held liable under paragraph (c) for damages caused by the data importer (or its sub-processor),', 'it shall be entitled to claim back from the data importer that part of the compensation corresponding to the data importer’s responsibility for the damage.', 'Where more than one Party is responsible for any damage caused to the data subject as a result of a breach of these Clauses,', 'all responsible Parties shall be jointly and severally liable and the data subject is entitled to bring an action in court against any of these Parties.', 'The Parties agree that if one Party is held liable under paragraph (e),', 'it shall be entitled to claim back from the other Party/ies that part of the compensation corresponding to its / their responsibility for the damage.', 'The data importer may not invoke the conduct of a sub-processor to avoid its own liability.', 'Clause 13Supervision', 'Where the data exporter is established in an EU Member State: The supervisory authority with  responsibility for ensuring compliance by the data exporter withRegulation (EU) 2016/679 as regards the data transfer,', 'as indicated in Annex I.C,', 'shall act as competent supervisory  authority.', 'The supervisory authority of the Member State in which the representative within the meaning  of Article 27(1) of Regulation (EU) 2016/679 is established,', 'as indicated in Annex I.C,', 'shall act as competent supervisory authority.', 'The supervisory authority of one of the Member States in which the data subjects whose personal data is transferred under these Clauses in relation to the offering of goods or services to them,', 'or whose behaviour is monitored,', 'are located,', 'as indicated in Annex I.C,', 'shall act as competentsupervisory authority.', 'The data importer agrees to submit itself to the jurisdiction of and cooperate with the competent supervisory authority in any procedures aimed at ensuring compliance with these Clauses.', 'In particular,', 'the data importer agrees to respond to enquiries,', 'submit to audits and comply with the measures adopted by the supervisory authority,', 'including remedial and compensatory measures.', 'It shall provide the supervisory authority with written confirmation that the necessary actions have been taken.', 'Section 3 - Local Laws and Obligations in case of access by public authoritiesClause 14Local laws and practices affecting compliance with the Clauses', 'The Parties warrant that they have no reason to believe that the laws and practices in the third country of destination applicable to the processing of the personal data by the data importer,', 'including any requirements to disclose personal data or measures authorising access by public authorities,', 'prevent the data importer from fulfilling its obligations under these Clauses.', 'This is based on the understanding that laws and practices that respect the essence of the fundamental rights and freedoms and do not exceed what is necessary and proportionate in a democratic society to safeguard one of the objectives listed in Article 23(1) of Regulation (EU) 2016/679,', 'are not in contradiction with these Clauses.', 'The Parties declare that in providing the warranty in paragraph (a),', 'they have taken due account in particular of the following elements:    the specific circumstances of the transfer,', 'including the length of the processing chain', 'the number of actors involved and the transmission channels used;', 'intended onward transfers;', 'the type of recipient;', 'the purpose of processing;', 'the categories and format of the transferred personal data;', 'the economic sector in which the transfer occurs;', 'the storage location of the data transferred;', 'the laws and practices of the third country of destination– including those requiring the disclosure of data to public authorities or authorising access by such authorities – relevant in light of the specific circumstances of the transfer,', 'and', 'the applicable limitations and safeguards;', ')', 'any relevant contractual,', 'technical or organisational safeguards put in place to supplement the safeguards under these Clauses,', 'including measures applied during transmission and to the processing of the personal data in the country of destination', '.', 'The data importer warrants that,', 'in carrying out the assessment under paragraph (b),', 'it has made its best efforts to provide the data exporter with relevant information and agrees that it will continue to cooperate with the data exporter in ensuring compliance with these Clauses', 'The Parties agree to document the assessment under paragraph (b) and make it available to the competent supervisory authority on request.', 'The data importer agrees to notify the data exporter promptly', 'if,', 'after having agreed to these Clauses and for the duration of the contract,', 'it has reason to believe that it is or has become subject to laws or practices not in line with the requirements under paragraph (a),', 'including following a change in the laws of the third country or a measure (such as a disclosure request) indicating an application of such laws in practice that is not in line with the requirements in paragraph (a).', 'Following a notification pursuant to paragraph (e),', 'or if the data exporter otherwise has reason to believe that the data importer can no longer fulfil its obligations under these Clauses,', 'the data exporter shall promptly identify appropriate measures (e.g. technical or organisational measures to ensure security and confidentiality) to be adopted by the data exporter and/or data importer to address the situation.', 'The data exporter shall suspend the data transfer if it considers that no appropriate safeguards for such transfer can be ensured,', 'or if instructed the competent supervisory authority to do so.', 'In this case,', 'the data exporter shall be entitled to terminate the contract,', 'insofar as it concerns the processing of personal data under these Clauses.', 'If the contract involves more than two Parties,', 'the data exporter may exercise this right to termination only with respect to the relevant Party,', 'unless the Parties have agreed otherwise.', 'Where the contract is terminated pursuant to this Clause,', 'Clause 16(d)', 'and (e) shall apply.', 'Clause 15Obligations of the data importer in case of access by public authorities15.1 Notification', 'The data importer agrees to notify the data exporter and,', 'where possible,', 'the data subjectpromptly (if necessary with the help of the data exporter) if it:    receives a legally binding request from a public authority,', 'including judicial authorities,', 'under the laws of the country of destination for the disclosure of personal data transferred pursuant to these Clauses', ';', 'such notification shall include information about the personal data requested,', 'the requesting authority,', 'the legal basis for the request and the response provided;', 'or', 'becomes aware of any direct access by public authorities to personal data transferred pursuant to these Clauses in accordance with the laws of the country of destination;', 'such notification shall include all information available to the importer.', 'If the data importer is prohibited from notifying the data exporter and/or the data subject under the laws of the country of destination,', 'the data importer agrees to use its best efforts to obtain a waiver of the prohibition,', 'with a view to communicating as much information as possible,', 'as soon as possible.', 'The data importer agrees to document its best efforts in order to be able to demonstrate them on request of the data exporter.', 'Where permissible under the laws of the country of destination,', 'the data importer agrees to provide the data exporter,', 'at regular intervals for the duration of thecontract,', 'with as much relevant information as possible on the requests received (in particular,', 'number of requests,', 'type of data requested,', 'requesting authority/ies,', 'whether requests have been challenged and the outcome of such challenges,', 'etc', '.', ')', '.', 'The data importer agrees to preserve the information pursuant to paragraphs (a) to (c) for the duration of the contract and make it available to the competent supervisory authority on request.', 'Paragraphs (a) to (c) are without prejudice to the obligation of the data importer pursuant to Clause 14(e) and Clause 16 to inform the data exporter promptly where itis unable to comply with these Clauses.', '15.2 Review of legality and data minimisation', 'The data importer agrees to review the legality of the request for disclosure,', 'in particular whether it remains within the powers granted to the requesting public authority,', 'and', 'to challenge the request if,', 'after careful assessment', 'it concludes that there are reasonable grounds to consider that the request is unlawful under the laws of the country of destination,', 'applicable obligations under international law and principles of international comity.', 'The data importer shall,', 'under the same conditions,', 'pursue possibilities of appeal.', 'When challenging a request,', 'the data importer shall seek interim measures with a view to suspending the effects of the request until the competent judicial authority has decided on its merits.', 'It shall not disclose the personal data requested until required to do so under the applicable procedural rules.', 'These requirements are without prejudice to the obligations of the data importer under Clause 14(e).', 'The data importer agrees to document its legal assessment and any challenge to the request for disclosure and,', 'to the extent permissible under the laws of the country of destination,', 'make the documentation available to the data exporter.', 'It shall also make it available to the competent supervisory authority on request.', 'The data importer agrees to provide the minimum amount of information permissible', 'when', 'responding to a request for disclosure,', 'based on a reasonable interpretation of the request.', 'Section 5 - Final ProvisionsClause 16Non-compliance with the Clauses and termination', 'The data importer shall promptly inform the data exporter if it is unable to comply with these Clauses,', 'for whatever reason.', 'In the event that the data importer is in breach of these Clauses or unable to comply with these Clauses,', 'the data exporter shall suspend the transfer of personal data to the data importer until compliance is again ensured or the contract is terminated.', 'This is without prejudice to Clause 14(f).', 'The data exporter shall be entitled to terminate the contract,', 'insofar as it concerns the processing of personal data under these Clauses,', 'where:    the data exporter has suspended the transfer of personal data to the data importer pursuant to paragraph (b) and compliance with these Clauses is not restored within a reasonable time and in any event within one month of suspension;', 'the data importer is in substantial or persistent breach of these Clauses;', 'or', 'the data importer fails to comply with a binding decision of a competent court or supervisory authority regarding its obligations under these Clauses.', '    ', 'In these cases,', 'it shall inform the competent supervisory authority of such non-compliance.', 'Where the contract involves more than two Parties,', 'the data exporter may exercise this right to termination only with respect to the relevant Party,', 'unless the Parties have agreed otherwise.', '  ', 'Personal data that has been transferred prior to the termination of the contract pursuant to paragraph (c) shall at the choice of the data exporter immediately be returned to the data exporter or deleted in its entirety.', 'The same shall apply to any copies of the data.', 'The data importer shall certify the deletion of the data to the data exporter.', 'Until the data is deleted or returned,', 'the data importer shall continue to ensure compliance with these Clauses.', 'In case of local laws applicable to the data importer that prohibit the return or deletion of the transferred personal data,', 'the data importer warrants that it will continue to ensure compliance with these Clauses and will only process the data to the extent and for as long as required under that local law.', 'Either Party may revoke its agreement to be bound by these Clauses where (i) the European Commission adopts a decision pursuant to Article 45(3) of Regulation (EU) 2016/679 that covers the transfer of personal data to which these Clauses apply;', 'or (ii) Regulation (EU) 2016/679 becomes part of the legal framework of the country to which the personal data is transferred.', 'This is without prejudice to other obligations applying to the processing in question under Regulation (EU) 2016/679.', 'Clause 17Governing lawThese Clauses shall be governed by the law of one of the EU Member States,', 'provided such law allows for third-party beneficiary rights.', 'The Parties agree that this shall bethe law of Ireland.', 'Clause 18Choice of forum and jurisdiction', 'Any dispute arising from these Clauses shall be resolved by the courts of', 'an EUMember', 'State', 'The Parties agree that those shall be the courts of Ireland.', 'A data subject may also bring legal proceedings against the data exporter and/or data importer before the courts of the Member State in which he/she has his/her habitual residence.', 'The Parties agree to submit themselves to the jurisdiction of such courts', 'AppendixAnnex IA.', 'List of partiesData exporter (Customer):Company Name:Address:Contact person’s name,', 'position', 'and', 'contact details:Activities relevant to the data transferred under these Clauses:See Annex I.B', 'Signature', 'and', 'date:Role: ', 'ControllerData importer(s): ', 'Help Scout,', 'PBCAddress: ', '100 City Hall Plaza,', 'Boston,', 'MA 02108Contact person’s name,', 'position', 'and', 'contact details: ', 'Shawna Fisher CFO,', 'dpo@helpscout.comActivities relevant to the data transferred under these Clauses: ', 'See Annex I.BRole: ', 'ControllerSignature and date:', 'Role: ProcessorB. DESCRIPTION OF TRANSFERCategories of data subjects whose personal data is transferred', 'The personal data concern the end users of our customers.', 'Categories of personal data transferred', 'The Help Scout platform caters to a broad customer and end user base that spans across the spectrum of industries.', \"Help Scout does not control nor limit the subject matter our customers' end users submit through the use of our tool.\", 'Considering this,', 'the nature of the product,', 'and', \"Help Scouts' role as a processor,\", 'inventorying an absolute list of data categories ingested and processed is not possible.', 'Help Scout processes data', 'that could', 'include but is not limited to: name,', 'age,', 'sex,', 'gender,', 'family status,', 'address,', 'education level,', 'lifestyle and habits,', 'IP address and location data,', 'customer satisfaction,', 'profession,', 'employment status,', 'usage data,', 'and image recordings (digital photo or video).', 'Sensitive data transferred (if applicable) and applied restrictions or safeguards that fully take into consideration the nature of the data and the risks involved,', 'such as for instance strict purpose limitation,', 'access restrictions (including access only for staff having followed specialised training),', 'keeping a record of access to the data,', 'restrictions for onward transfers or additional security measures.', 'Help Scout processes data that could include but is not limited to the special categories of data: health data,', 'genetic data,', 'racial and ethnic origin,', 'sexual orientation and/or habits,', 'political opinion,', 'religious affiliation or beliefs,', 'non-political or non-trade union memberships,', 'criminal convictions and offenses.', 'The frequency of the transfer (e.g. whether the data is transferred on a one-off or continuous basis).', 'Personal data is ingested on a continuous basis.', 'Nature of the processing', 'Personal data is ingested by the day to day use of the platform.', \"Data can be ingested through manual entries by Help Scout's customers or in an automated manner through the log collections on the platform.\", \"Data is stored within Help Scout's production database.\", 'Purpose(s) of the data transfer and', 'further processing', 'Personal', 'Data is Processed for the purpose of delivering the Help Scout service and supporting the Help Scout website and the platform services.', 'The period for which the personal data will be retained,', 'or,', 'if that is not possible,', 'the criteria used to determine that period', 'The subject matter and duration of the processing of the personal data are set out in the Terms of Service.', 'For transfers to (sub-) processors,', 'also specify subject matter,', 'nature and duration of the processing', 'Help Scout uses the sub-processors found online at https://www.helpscout.com/company/legal/sub-processors/ when delivering services to their customers.', 'The list specifies the subject matter and nature of the processing activities performed by Help Scout’s sub-processors and applicable data transfer mechanism.', 'C. COMPETENT SUPERVISORY AUTHORITYIdentify the competent supervisory authority/ies in accordance with Clause 13', 'Location of the Data Exporter/Data Exporter’s EU representative/Location of Data Exporter’s largest customer', 'baseAnnex', 'IITechnical and organisational measures including technical and organisational measures to ensure the security of the dataDescription of the technical and organisational measures implemented by the data importer(s) (including any relevant certifications) to ensure an appropriate level of security,', 'taking into account the nature,', 'scope,', 'context and purpose of the processing,', 'and the risks for the rights and freedoms of natural persons.', 'Help Scout’s technical and organizational measures taken to protect the personal data transferred outside', 'the EEA to a non-adequate country are published and available at: https://www.helpscout.com/company/legal/security/Annex C — UK INTERNATIONAL DATA TRANSFER ADDENDUMBackground:', 'This Addendum has been issued by the Information Commissioner for Parties making Restricted Transfers.', 'The Information Commissioner considers that it provides Appropriate Safeguards for Restricted Transfers when it is entered into as a legally binding contractPart 1Start', 'DateThe UK Addendum is effective from the date the DPA comes into force.', 'Table 1: PartiesExporter and key contactAs set out in the Appendix to Annex B of the DPA.Importer and key contactAs set out in the Appendix to Annex B of the DPA.', 'Table 2: Selected SCCs,', 'Modules and ClausesAddendum EU SCCsModule 2 of the EU Standard Contractual Clauses as set out in Annex B of the DPA.Table 3: Appendix InformationAs set out in Annex I and Annex II of the EU Standard Contractual Clauses as set out in the Appendix to Annex B of the DPA.Table 4: Ending this Addendum when the Approved Addendum ChangesEnding this Addendum when the Approved Addendum changesImporter may end this Addendum as set out in Section 19.Part 2Entering into this Addendum', 'Each Party agrees to be bound by the terms and conditions set out in this Addendum,', 'in exchange for the other Party also agreeing to be bound by this Addendum.', 'Although Annex I.A and Clause 7 of the Approved EU SCCs require signature by the Parties,', 'for the purpose of making Restricted Transfers,', 'the Parties may enter into this Addendum in any way that makes them legally binding on the Parties and allows data subjects to enforce their rights as set out in this Addendum.', 'Entering into this Addendum will have the same effect as signing the Approved EU SCCs and any part of the Approved EU SCCs.', 'Interpretation of this Addendum', 'Where this Addendum uses terms that are defined in the Approved EU SCCs those terms shall have the same meaning as in the Approved EU SCCs.', 'In addition,', 'the following terms have the following meanings:', 'Addendum This Addendum which is made up of this Addendum incorporating the Addendum EU SCCs.', 'Addendum EU SCCsThe version(s) of the Approved EU SCCs which this Addendum is appended to,', 'as set out in Annex B of the DPA,', 'including the Appendix Information.', 'Appendix InformationAs set out in Table 3.Appropriate SafeguardsThe standard of protection over the Custom Personal Data and of data subjects’ rights,', 'which is required by UK Data Protection Laws when you are making a restricted transfer relying on standard data protection clauses under Article 46(2)(d) UK GDPR.Approved AddendumThe template Addendum issued by the ICO and laid before Parliament in accordance with s119A of the Data Protection Act 2018 on 2 February 2022,', 'as it is revised under Section 18.Approved EU SCCs The Standard Contractual Clauses set out in the Annex of Commission Implementing Decision (EU) 2021/914 of 4 June 2021.ICOThe Information Commissioner.', 'Restricted Transfer      A transfer which is covered by Chapter V of the UK GDPR.', '    ', 'UKThe United Kingdom of Great Britain and Northern Ireland.', 'UK Data Protection LawsAll laws relating to data protection,', 'the processing of Custom Personal Data,', 'privacy and/or electronic communications in force from time to time in the UK,', 'including the UK GDPR and the Data Protection Act 2018.UK GDPRAs defined in section 3 of the Data Protection Act 2018', '.', 'This Addendum must always be interpreted in a manner that is consistent with UK Data Protection Laws and so that it fulfils the Parties’ obligation to provide the Appropriate Safeguards.', 'If the provisions included in the Addendum EU SCCs amend the Approved EU SCCs in any way which is not permitted under the Approved EU SCCs or the Approved Addendum,', 'such amendment(s) will not be incorporated in this Addendum and the equivalent provision of the Approved EU SCCs will take their place.', 'If there is any inconsistency or conflict between UK Data Protection Laws and this Addendum,', 'UK Data Protection Laws applies.', 'If the meaning of this Addendum is unclear or there is more than one meaning,', 'the meaning which most closely aligns with UK Data Protection Laws applies.', 'Any references to legislation (or specific provisions of legislation) means that legislation (or specific provision) as it may change over time.', 'This includes where that legislation (or specific provision) has been consolidated,', 're', '-enacted and/or replaced after this Addendum has been entered into.', 'Hierarchy', 'Although Clause 5 of the Approved EU SCCs sets out that the Approved EU SCCs prevail over all related agreements between the parties,', 'the parties agree that,', 'for Restricted Transfers,', 'the hierarchy in Section 10 will prevail.', 'Where there is any inconsistency or conflict between the Approved Addendum and the Addendum EU SCCs (as applicable),', 'the Approved Addendum overrides the Addendum EU SCCs,', 'except where (and in so far as) the inconsistent or conflicting terms of the Addendum EU SCCs provides greater protection for data subjects,', 'in which case those terms will override the Approved Addendum.', 'Where this Addendum incorporates Addendum EU SCCs which have been entered into to protect transfers subject to the General Data Protection Regulation (EU) 2016/679 then the Parties acknowledge that nothing in this Addendum impacts those Addendum EU SCCs.', 'Incorporation of and changes to the EU SCCs    This Addendum incorporates the Addendum EU SCCs which are amended to the extent necessary so that:    together they operate for data transfers made by the data exporter to the data importer,', 'to the extent that UK Data Protection Laws apply to the data exporter’s processing when making that data transfer,', 'and they provide Appropriate Safeguards for those data transfers;', 'Sections 9 to 11 override Clause 5 (Hierarchy) of the Addendum EU SCCs;', 'and', 'this Addendum (including the Addendum EU SCCs incorporated into it) is (1) governed by the laws of England and Wales and (2) any dispute arising from it is resolved by the courts of England and Wales,', 'in each case unless the laws and/or courts of Scotland or Northern Ireland have been expressly selected by the Parties.', 'Unless the Parties have agreed alternative amendments which meet the requirements of Section 12,', 'the provisions of Section 15 will apply.', 'No amendments to the Approved EU SCCs other than to meet the requirements of Section 2 may be made.', 'The following amendments to the Addendum EU SCCs (for the purpose of Section 12) are made:     References to the “Clauses” means this Addendum,', 'incorporating the Addendum EU SCCs;', 'In Clause 2,', 'delete the words:  “and,', 'with respect to data transfers from controllers to processors and/or processors to processors,', 'standard contractual clauses pursuant to Article 28(7) of Regulation (EU) 2016/679”;', 'Clause 6 (Description of the transfer(s)) is replaced with: ', '“', 'The details of the transfers(s) and in particular the categories of Custom Personal Data that are transferred and the purpose(s) for which they are transferred) are those specified in Annex I.B where UK Data Protection Laws apply to the data exporter’s processing when making that transfer.', '”', ';', 'Clause 8.7(i) of Module 1 is replaced with: ', '“', 'it is to a country benefitting from adequacy regulations pursuant to Section 17A of the UK GDPR that covers the onward transfer”;', 'Clause 8.8(i) of Modules 2 and 3 is replaced with: ', '“the onward transfer is to a country benefitting from adequacy regulations pursuant to Section 17A of the UK GDPR that covers the onward transfer;', '”References to “Regulation (EU) 2016/679”,', '“', 'Regulation (EU) 2016/679 of the European Parliament and of the Council of 27 April 2016 on the protection of natural persons with regard to the processing of Custom Personal Data and on the free movement of such data (General Data Protection Regulation)” and “that Regulation” are all replaced by “UK Data Protection Laws”.', 'References to specific Article(s) of “Regulation (EU) 2016/679” are replaced with the equivalent Article or Section of UK Data Protection Laws;', 'References to Regulation (EU) 2018/1725 are removed;', 'References to the “European Union”,', '“Union”,', '“EU”,', '“EU Member State”,', '“', 'Member State” and “EU or Member State” are all replaced with the “UK”;', 'The reference to “Clause 12(c)(i)” at Clause 10(b)(i) of Module one,', 'is replaced with “Clause 11(c)(i)”;', 'Clause 13(a) and Part C of Annex I are not used;', 'The “competent supervisory authority” and “supervisory authority” are both replaced with the “Information Commissioner”;', 'In Clause 16(e),', 'subsection', '(', 'i) is replaced with: ', '“the Secretary of State makes regulations pursuant to Section 17A of the Data Protection Act 2018 that cover the transfer of Custom Personal Data to which these clauses apply;', '”', ';', 'Clause 17 is replaced with: ', '“These Clauses are governed by the laws of England and Wales.', '”', ';', 'Clause 18 is replaced with: ', '“', 'Any dispute arising from these Clauses shall be resolved by the courts of England and Wales.', 'A data subject may also bring legal proceedings against the data exporter and/or data importer before the courts of any country in the UK.', 'The Parties agree to submit themselves to the jurisdiction of such courts.', '”', ';', 'andThe footnotes to the Approved EU SCCs do not form part of the Addendum,', 'except for footnotes 8,', '9,', '10 and 11.', 'Amendments to this Addendum', 'The Parties may agree to change Clauses 17 and/or 18 of the Addendum EU SCCs to refer to the laws and/or courts of Scotland or Northern Ireland.', 'If the Parties wish to change the format of the information included in Part 1: Tables of the Approved Addendum,', 'they may do so by agreeing to the change in writing,', 'provided that the change does not reduce the Appropriate Safeguards.', 'From time to time', 'the ICO may issue a revised Approved Addendum which:     makes reasonable and proportionate changes to the Approved Addendum,', 'including correcting errors in the Approved Addendum;', 'and/or', 'reflects changes to UK Data Protection Laws;', '    ', 'The revised Approved Addendum will specify the start date from which the changes to the Approved Addendum are effective and whether the Parties need to review this Addendum including the Appendix Information.', 'This Addendum is automatically amended as set out in the revised Approved Addendum from the start date specified.', '      ', 'If the ICO issues a revised Approved Addendum under Section 18,', 'and the data importer will as a direct result of the changes in the Approved Addendum have a substantial,', 'disproportionate and demonstrable increase in             its direct costs of performing its obligations under the Addendum;', 'and/or              its risk under the addendum,', '            ', 'and in either case the data importer has first taken reasonable steps to reduce those costs or risks so that it is not substantial and disproportionate,', 'then the data importer may end this Addendum at the end of a reasonable notice period,', 'by providing written notice for that period to the data exporter before the start date of the revised Approved Addendum.', '      ', 'The Parties do not need the consent of any third party to make changes to this Addendum,', 'but any changes must be made in accordance with its terms.', '  ', 'For an executable copy of this DPA,', 'please visit this page.']\n",
            "['DATA PROCESSINGIntroduction', 'Data processing involves translating the answers on a questionnaire into a form that can be manipulated to produce statistics.', 'In general', 'this involves coding,', 'editing,', 'data entry,', 'and monitoring the whole data processing procedure.', 'The main aim of checking the various stages of data processing is to produce a file of data that is as error free as possible.', 'Adopting a methodical and consistent approach to each processing task is important to ensure that the processing is completed satisfactorily and on schedule.', 'The following discussion will give a brief introduction to the main stages of data processing.', 'Stages in Data Processing', 'Functions', 'involved in data processing include:  despatch and collection control;', 'data capture and coding;', 'and editing.', 'Despatch and Collection Control', 'A despatch and collection control (DACC) system can be employed to organise the distribution and receipt of the survey forms.', 'It is also used to employ mark-in functions,', 'employ reminder action,', 'and', 'importantly,', \"generate management information reports on the collection's progress.\", 'All of the above tasks could be performed manually but are more likely to be automated using some kind of generalised system if the survey is large.', 'The functionality required in the DACC phase can vary significantly,', 'depending on the collection technique,', 'i.e. whether a mail survey,', 'personal interview,', 'telephone survey or a combination of techniques are used.', 'DACC segments include population file set-up and maintenance,', 'label production,', 'hardcopy/electronic collection control registers,', 'mark-in,', 'reminder control,', 'intensive follow-up control and management information.', 'Management information covers response rate progress,', 'returns to sender,', 'timing and effects of each phase such as reminder action.', 'Data Capture and Coding', 'The questionnaire can be used as a working document for the transfer of data on to a computer file,', 'therefore removing the need for a separate data input form.', 'This also removes a stage that could produce transcription errors.', 'Consequently,', 'it is important to design the questionnaire to facilitate data entry.', 'Coding', 'Unless all the questions on a questionnaire are \"closed\" questions,', 'some degree of coding is required before the survey data can be sent for punching.', 'The appropriate codes should be devised before the questionnaires are processed,', 'and are usually based on the results of pilot tests.', 'Most surveys are too large and complex to be analysed by checking questionnaires and counting responses.', 'Surveys usually require a system by which the responses can be transferred onto a computer file for analysis.', 'This system would involve translating responses from \"closed\" questions into numerical codes.', 'Coding consists of labelling the responses to questions in a unique and abbreviated (using numerical codes) way in order to facilitate data entry and manipulation.', 'Codes should be formulated to be simple and easy,', 'for example,', 'if Question 1 has four possible types of responses then those four responses could be given the codes 1,', '2,', '3,', 'and', '4.', 'The advantage of coding is the simplistic storage of data as a few-digit code,', 'compared to lengthy alphabetical descriptions which almost certainly will not be easy to categorise.', 'Coding is a relatively expensive task in terms of resource effort.', 'However,', 'improvements are always being sought by developing automated techniques to cover this task.', 'The coding frame for most questions can be devised before the main interviewing begins or forms are despatched.', 'That is,', 'the likely responses are obvious from previous similar surveys or through pilot testing,', 'allowing those responses and relevant codes to be printed on the questionnaire.', 'An \"Other\" answer code is often added to the end of a coding frame with space for respondents or interviewers to write the answer.', 'A major function of the ABS is the development of statistical standards,', 'classifications and frameworks', '.', 'These classifications cover a wide range of subjects,', 'including the:ASGC\\t\\tAustralian Standard Geographical Classification (Cat.', 'No.', '1216.0)', ';', 'ASCO\\t\\tAustralian Standard Classification of Occupations (Cat.', 'No.', '1222.0)', ';', 'ANZSIC\\t\\tAustralian & New Zealand Standard Industrial Classification (Cat.', 'No.', '1292.0);', 'and', 'ABS Standards for Statistics on the Family (Cat.', 'No.', '1286.0)', '.', 'ABS classifications should always be considered when designing questions for a questionnaire because they are easily coded and allow for comparison with ABS data.', 'Data Capture', 'Data capture methods are very expensive in terms of both staff and time.', 'Some of the advances in recent times that reduce the number of errors introduced by data capture are given below.', 'In a mail-based survey errors may occur when clerical staff enter the data using a computer terminal.', 'These errors can often be reduced by improving the design of the data entry system.', 'This is increasingly possible with the introduction of computer aided data entry (CADE) systems which can be tailored to the form being entered.', 'A good CADE system would present screen images of pages from the paper form,', \"making it easy for the clerk to enter the respondent's values at the appropriate points.\", 'Another approach to minimise data entry is by using machine-readable returns.', 'Optical mark reading (OMR) can be used to read form identifiers,', 'and in some cases to read responses consisting of marks.', 'Optical character recognition (OCR) allows the computer to read hand written forms directly.', 'In interviewer-based surveys errors may occur as the interviewer fills out the form and also later when the data is entered into the computer.', 'If the double transfer of data can be avoided the opportunity for errors can be reduced.', 'Approaches to this are computer assisted telephone interviewing (CATI) and computer assisted personal interviewing (CAPI) which involve the interviewer entering data directly into a computer terminal rather than onto a form.', 'Factors to Consider', 'When changing to a new data capture system', 'there are several issues that need to be considered.', 'These include the accuracy of results,', 'the time in which results can be output,', 'the staffing required for the new system and the costs of the changeover.', 'In particular,', 'some of the considerations might be:in on-going surveys,', 'a change in system can cause a drift in the results,', 'not allowing comparability between different survey periods;', 'a reliance on a small number of data capture machines can cause timeliness problems when breakdowns occur;', 'there may be a decrease in the need for data punchers as far as staff levels are concerned if the data capture machines process forms more quickly;', 'when changing systems,', 'there are large up-front costs in introducing hardware,', 'but improvements in the capture system should lower staff costs.', 'EditingWhat is editing?', 'Editing is the process of correcting faulty data,', 'in order to allow the production of reliable statistics.', 'Data editing does not exist in isolation from the rest of the collection processing cycle and the nature and extent of any editing and error treatment will be determined by the aims of the collection.', 'In many cases it will not be necessary to pay attention to every error.', 'Errors in the data may have come from respondents or have been introduced during data entry or data processing.', 'Editing aims to correct a number of non-sampling errors,', 'which are those errors that may occur in both censuses and sample surveys;', 'for example,', 'non-sampling errors include those errors introduced by misunderstanding questions or instructions,', 'interviewer bias,', 'miscoding,', 'non-', 'availability of data,', 'incorrect transcription,', 'non-response and non-contact', '.', 'But editing will not reveal all non-sampling errors - for example,', 'while an editing system could be designed to detect transcription errors,', 'missing values and inconsistent responses,', 'other problems such as interviewer bias may easily escape detection.', 'Editing should aim:to ensure that outputs from the collection are mutually consistent,', 'for example,', 'a component should not exceed an aggregate value;', 'two different methods of deriving the same value should give the same answer;', 'to detect major errors,', 'which could have a significant effect on the outputs;', 'to find any unusual outputs and their causes.', 'The required level of editing', 'The function of editing is to help achieve the aims of a collection so,', 'before edits are created or modified,', 'it is important to know these aims - since these have a major say in the nature of the editing system created for the given collection.', 'We need to know about features such as:the outputs from the collection', 'the level at which outputs are required', 'their required accuracy', 'how soon after the reference period the outputs are needed', 'the users and uses of the collection.', 'A collection may be simple (with limited data collected) and designed to meet the requirements of only one type of user (e.g.,', 'Survey of new Motor Vehicle Registration and Retail Trade) or it may collect more complex data and aim to meet the needs of many different types of users (e.g. Agricultural Finance Survey,', 'Household Expenditure Survey,', 'etc.', ')', '.', 'If there are many types of users there is a likelihood of conflicting requirements amongst the users,', 'which can lead to stresses on the collection.', 'the reliability of each item (eg.', 'is the definition easily understood or is the item sensitive?', ')', 'While the goal of editing is to produce data that represent as closely as possible the activity being measured,', 'there are usually a number of constraints (such as the time and number of people available for data editing) within which editing is conducted.', 'These constraints will also influence the design of the editing system for the given collection.', 'The structure of an edit', 'An edit is defined by specifying:the test to be applied,', 'the domain,', 'which is a description of the set of data that the test should be applied to,', 'and', 'the follow-up action if the test is failed.', 'The test', 'This is a statement of something that is expected to be true for good data.', 'A test typically consists of data items connected by arithmetic or comparison operators.', 'Ideas for suitable tests may arise from people with a knowledge of the subject matter,', 'the aims of the collection or relationships that should hold between items.', 'Examplesthis item should not be missing', 'the sum of these items equals that itemThe Domain', 'The domain is defined by specifying the conditions which the data must satisfy before the test can be applied.', 'ExampleA test may only be relevant to those businesses in a certain industry and the domain will therefore consist of all records belonging to that industry.', 'The Follow-up', 'The edit designer must also think about the appropriate follow-up action if a test is failed.', 'Some edits will be minor failures that simply require human attention,', 'but', 'do not need to be amended.', 'Other edits identify major failures that require human attention and an amendment.', 'The sort of treatment given to an edit failure is commonly done by classifying edits to a grade of severity,', 'such as fatal,', 'query and warning.', 'ExampleWhere a record lacks critical information which is essential for further processing a fatal error should be displayed.', 'It is important to note that even if we go through comprehensive editing processes errors may still occur,', 'as editing can identify only noticeable errors.', 'Information wrongly given by respondents or wrongly transcribed by interviewers can only be corrected when there are clues that point to the error and provide the solution.', 'Thus,', 'the final computer file will not be error-free,', 'but hopefully should be internally consistent.', 'Generally different levels of editing are carried out at several stages during data processing.', 'Some of the stages involved are provided below.', 'Clerical Coding', 'This stage includes mark-in of the forms as they are returned,', 'all manual coding (eg.', 'country and industry coding) and manual data conversion (eg.', 'miles to kilometres).', 'Clerical Editing', 'This stage includes all editing done manually by clerks before the unit data are loaded into a computer file.', 'Input Editing', 'Input editing deals with each respondent independently and includes all \"within record\" edits which are applied to unit records.', 'It is carried out before any aggregates for the production of estimates are done.', 'An important consideration in input editing is the setting of the tolerances for responses.', 'Setting low tolerances will result in the generation of large numbers of edit failures and impact directly on resources and in the meeting of timetables.', 'Ideally,', 'an input edit system has been designed after carefully considering and setting edit tolerances,', 'clerical scrutiny levels,', 'resource costs (against benefits),', 'respondent load and timing implications.', 'Output Editing', 'Output', 'editing includes all edits applied to the data once it has been weighted and aggregated in preparation for publication.', 'If a unit contributes a large amount to a cell total,', 'then the response for that unit should be checked with a follow-up.', 'Output editing is not restricted to examination of aggregates within the confines of a survey.', 'A good output edit system will incorporate comparisons against other relevant statistical indicators.', 'Types of Edits Commonly UsedValidation Edit ', 'Checks the validity or legality of basic identification or classificatory items in unit data.', \"Examplesthe respondent's reference number is of a legal form\", 'state code is within the legal range', 'sex is coded as either M or FMissing Data Edit', 'Checks that data that should have been reported were in fact reported.', 'An answer to one question may determine which other questions are to be answered and the editing system needs to ensure that the right sequence of questions has been answered.', 'Examplesin an employment survey a respondent should report a value for employment', 'a respondent who has replied NO to the question: Do you have any children?', 'should not have answered any of the questions about the ages,', 'sexes and education of any children', 'Logical Edit', 'Ensures that two or more categorical items in a record do not have contradictory values.', 'Examplea respondent claiming to be 16 years old and receiving the age pension would clearly fail an editConsistency (or reconciliation) edits', 'Checks that precise arithmetical relationships hold between continuous numeric variables that are subject to such relationships.', 'Consistency edits could involve the checking of totals or products.', 'Examplestotals:\\ta reported total should equal the sum of the reported components totals of different breakdowns of the same item should be equal (eg.', 'the Australian estimate should be the same whether obtained by summing state estimates or industry estimatesproducts:\\tif one item is a known percentage of another then this can be checked (eg.', 'land tax paid should equal the product of the taxable value and the land tax rate)income from the sales of a commodity should equal the product of the unit price and the amount soldRange Edit', 'Checks that approximate relationships hold between numeric variables that are subject to such relationships.', \"A range edit can be thought of as a loosening of a consistency edit and it's definition will include a description of the range of acceptable values (or tolerance range).\", 'Examples', \"If a company's value for number of employees increases by more than a certain predefined amount (or proportion) then the unit will fail.\", 'Note that both the absolute change and the proportional change should be considered since a change from 500 to 580 may not be as useful as a change from 6 to 10.', 'So,', 'if the edit was defined to accept the record if the current value is within 20% of the previous value a change from 500 to 580 would be accepted and the change from 6 to 10 would be queried.', 'In a survey which collects total amount loaned for houses and total number of housing loans from each lending institution it would probably be sensible to check that the derived item average housing loan is within an acceptable range.']\n"
          ]
        }
      ]
    },
    {
      "cell_type": "markdown",
      "source": [
        "# Segunda entrega\n",
        "-----------"
      ],
      "metadata": {
        "id": "6gtLThZd4H0w"
      }
    },
    {
      "cell_type": "code",
      "source": [
        "nlp=spacy.load(\"en_core_web_sm\")\n",
        "def lemmatize(text):\n",
        "  \"\"\"\n",
        "\n",
        "  Transforma uma sentença de palavras em uma sequência de lexemas.\n",
        "\n",
        "  Parameters\n",
        "  ----------\n",
        "  text : String\n",
        "    texto a ser transformado em sequência de lexemas\n",
        "  Returns\n",
        "  --------\n",
        "  Lista(String)\n",
        "    Lista de lexemas\n",
        "\n",
        "\n",
        "  \"\"\"\n",
        "  doc = nlp(text)\n",
        "  return [word.lemma_ for word in doc if not word.is_punct and not word.text in [\"!\", \"?\", \",\", \";\", \".\",\"\\n\"]]\n"
      ],
      "metadata": {
        "id": "f5rMbbGmQ8c_"
      },
      "execution_count": null,
      "outputs": []
    },
    {
      "cell_type": "markdown",
      "source": [
        "Transforma os arrays de sentenças em um único array"
      ],
      "metadata": {
        "id": "NewXkZov5Lrz"
      }
    },
    {
      "cell_type": "code",
      "source": [
        "sents_array = []\n",
        "for array in range(len(scrapper.get_sets_arrays())):\n",
        "  for sents in scrapper.get_sets_arrays()[array]:\n",
        "    sents_array.append(sents)"
      ],
      "metadata": {
        "id": "c7i61AVylAao"
      },
      "execution_count": null,
      "outputs": []
    },
    {
      "cell_type": "markdown",
      "source": [
        "instância um dataframe com o array de sequência"
      ],
      "metadata": {
        "id": "EWMz9E5e5UT3"
      }
    },
    {
      "cell_type": "code",
      "source": [
        "\n",
        "data = {'sents': sents_array}\n",
        "index = [sent for sent in range(len(sents_array))]\n",
        "df = pd.DataFrame(data=data, index=index)"
      ],
      "metadata": {
        "id": "sKnn8wTIlktI"
      },
      "execution_count": null,
      "outputs": []
    },
    {
      "cell_type": "markdown",
      "source": [
        "Aplica a função lemmatize para a coluna sents, criando um array de lexemas para cada sentença"
      ],
      "metadata": {
        "id": "lD7MBhCQ5iCU"
      }
    },
    {
      "cell_type": "code",
      "source": [
        "tokens_lemmatize = df.sents.apply(lambda txt : lemmatize(txt))\n",
        "df['tokens']=tokens_lemmatize"
      ],
      "metadata": {
        "id": "2ZdpmvBWpfrV"
      },
      "execution_count": null,
      "outputs": []
    },
    {
      "cell_type": "markdown",
      "source": [
        "Cria uma coluna para o lexema no dataframe com todos os valores da célula em 0"
      ],
      "metadata": {
        "id": "4mmqRo8451sp"
      }
    },
    {
      "cell_type": "code",
      "source": [
        "for i in tokens_lemmatize:\n",
        "  for word in i:\n",
        "    if type(df.get(word))!=pd.core.series.Series:\n",
        "      df[word]=0"
      ],
      "metadata": {
        "colab": {
          "base_uri": "https://localhost:8080/"
        },
        "id": "CjUtAe6QrsMp",
        "outputId": "beddb574-252b-4537-d46b-5410c479ad58"
      },
      "execution_count": null,
      "outputs": [
        {
          "output_type": "stream",
          "name": "stderr",
          "text": [
            "/usr/local/lib/python3.7/dist-packages/ipykernel_launcher.py:4: PerformanceWarning: DataFrame is highly fragmented.  This is usually the result of calling `frame.insert` many times, which has poor performance.  Consider joining all columns at once using pd.concat(axis=1) instead.  To get a de-fragmented frame, use `newframe = frame.copy()`\n",
            "  after removing the cwd from sys.path.\n"
          ]
        }
      ]
    },
    {
      "cell_type": "markdown",
      "source": [
        "Adiciona +1 em cada ocorrência do lexama na sentença"
      ],
      "metadata": {
        "id": "4wEdO5o36sOr"
      }
    },
    {
      "cell_type": "code",
      "source": [
        "count=0\n",
        "for i in tokens_lemmatize:\n",
        "  for word in i:\n",
        "    df.at[count,word]+=1\n",
        "  count+=1"
      ],
      "metadata": {
        "id": "yQ9-pWtWvUg3"
      },
      "execution_count": null,
      "outputs": []
    },
    {
      "cell_type": "code",
      "source": [
        "bow = df.drop(columns=[\"tokens\", \"sents\"])"
      ],
      "metadata": {
        "id": "605CiUbDxnc8"
      },
      "execution_count": null,
      "outputs": []
    },
    {
      "cell_type": "code",
      "source": [
        "bow"
      ],
      "metadata": {
        "id": "sJbGkyPgygRH",
        "colab": {
          "base_uri": "https://localhost:8080/",
          "height": 488
        },
        "outputId": "3690edcd-f639-4b64-aa58-27b22f78f7be"
      },
      "execution_count": null,
      "outputs": [
        {
          "output_type": "execute_result",
          "data": {
            "text/plain": [
              "      whether  you  use  the  internet  to  learn  about  a  certain  ...  \\\n",
              "0           1    1    1    1         1   1      1      1  1        1  ...   \n",
              "1           0    0    0    0         0   0      0      0  0        0  ...   \n",
              "2           0    0    0    0         0   0      0      0  0        0  ...   \n",
              "3           0    0    0    0         0   0      0      0  0        0  ...   \n",
              "4           0    0    0    0         0   0      0      0  0        0  ...   \n",
              "...       ...  ...  ...  ...       ...  ..    ...    ... ..      ...  ...   \n",
              "1938        0    0    0    1         0   0      0      0  2        1  ...   \n",
              "1939        0    0    0    2         0   2      0      0  2        0  ...   \n",
              "1940        0    0    0    0         0   0      0      0  0        0  ...   \n",
              "1941        0    0    0    5         0   3      0      0  1        0  ...   \n",
              "1942        0    0    0    1         0   1      0      0  1        0  ...   \n",
              "\n",
              "      proportion  proportional  500  580  20  loan  housing  lending  \\\n",
              "0              0             0    0    0   0     0        0        0   \n",
              "1              0             0    0    0   0     0        0        0   \n",
              "2              0             0    0    0   0     0        0        0   \n",
              "3              0             0    0    0   0     0        0        0   \n",
              "4              0             0    0    0   0     0        0        0   \n",
              "...          ...           ...  ...  ...  ..   ...      ...      ...   \n",
              "1938           1             0    0    0   0     0        0        0   \n",
              "1939           0             1    1    1   0     0        0        0   \n",
              "1940           0             0    0    0   0     0        0        0   \n",
              "1941           0             0    1    1   1     0        0        0   \n",
              "1942           0             0    0    0   0     3        2        1   \n",
              "\n",
              "      probably  average  \n",
              "0            0        0  \n",
              "1            0        0  \n",
              "2            0        0  \n",
              "3            0        0  \n",
              "4            0        0  \n",
              "...        ...      ...  \n",
              "1938         0        0  \n",
              "1939         0        0  \n",
              "1940         0        0  \n",
              "1941         0        0  \n",
              "1942         1        1  \n",
              "\n",
              "[1943 rows x 2412 columns]"
            ],
            "text/html": [
              "\n",
              "  <div id=\"df-31ea7404-212e-47a5-9707-265cdd788f6b\">\n",
              "    <div class=\"colab-df-container\">\n",
              "      <div>\n",
              "<style scoped>\n",
              "    .dataframe tbody tr th:only-of-type {\n",
              "        vertical-align: middle;\n",
              "    }\n",
              "\n",
              "    .dataframe tbody tr th {\n",
              "        vertical-align: top;\n",
              "    }\n",
              "\n",
              "    .dataframe thead th {\n",
              "        text-align: right;\n",
              "    }\n",
              "</style>\n",
              "<table border=\"1\" class=\"dataframe\">\n",
              "  <thead>\n",
              "    <tr style=\"text-align: right;\">\n",
              "      <th></th>\n",
              "      <th>whether</th>\n",
              "      <th>you</th>\n",
              "      <th>use</th>\n",
              "      <th>the</th>\n",
              "      <th>internet</th>\n",
              "      <th>to</th>\n",
              "      <th>learn</th>\n",
              "      <th>about</th>\n",
              "      <th>a</th>\n",
              "      <th>certain</th>\n",
              "      <th>...</th>\n",
              "      <th>proportion</th>\n",
              "      <th>proportional</th>\n",
              "      <th>500</th>\n",
              "      <th>580</th>\n",
              "      <th>20</th>\n",
              "      <th>loan</th>\n",
              "      <th>housing</th>\n",
              "      <th>lending</th>\n",
              "      <th>probably</th>\n",
              "      <th>average</th>\n",
              "    </tr>\n",
              "  </thead>\n",
              "  <tbody>\n",
              "    <tr>\n",
              "      <th>0</th>\n",
              "      <td>1</td>\n",
              "      <td>1</td>\n",
              "      <td>1</td>\n",
              "      <td>1</td>\n",
              "      <td>1</td>\n",
              "      <td>1</td>\n",
              "      <td>1</td>\n",
              "      <td>1</td>\n",
              "      <td>1</td>\n",
              "      <td>1</td>\n",
              "      <td>...</td>\n",
              "      <td>0</td>\n",
              "      <td>0</td>\n",
              "      <td>0</td>\n",
              "      <td>0</td>\n",
              "      <td>0</td>\n",
              "      <td>0</td>\n",
              "      <td>0</td>\n",
              "      <td>0</td>\n",
              "      <td>0</td>\n",
              "      <td>0</td>\n",
              "    </tr>\n",
              "    <tr>\n",
              "      <th>1</th>\n",
              "      <td>0</td>\n",
              "      <td>0</td>\n",
              "      <td>0</td>\n",
              "      <td>0</td>\n",
              "      <td>0</td>\n",
              "      <td>0</td>\n",
              "      <td>0</td>\n",
              "      <td>0</td>\n",
              "      <td>0</td>\n",
              "      <td>0</td>\n",
              "      <td>...</td>\n",
              "      <td>0</td>\n",
              "      <td>0</td>\n",
              "      <td>0</td>\n",
              "      <td>0</td>\n",
              "      <td>0</td>\n",
              "      <td>0</td>\n",
              "      <td>0</td>\n",
              "      <td>0</td>\n",
              "      <td>0</td>\n",
              "      <td>0</td>\n",
              "    </tr>\n",
              "    <tr>\n",
              "      <th>2</th>\n",
              "      <td>0</td>\n",
              "      <td>0</td>\n",
              "      <td>0</td>\n",
              "      <td>0</td>\n",
              "      <td>0</td>\n",
              "      <td>0</td>\n",
              "      <td>0</td>\n",
              "      <td>0</td>\n",
              "      <td>0</td>\n",
              "      <td>0</td>\n",
              "      <td>...</td>\n",
              "      <td>0</td>\n",
              "      <td>0</td>\n",
              "      <td>0</td>\n",
              "      <td>0</td>\n",
              "      <td>0</td>\n",
              "      <td>0</td>\n",
              "      <td>0</td>\n",
              "      <td>0</td>\n",
              "      <td>0</td>\n",
              "      <td>0</td>\n",
              "    </tr>\n",
              "    <tr>\n",
              "      <th>3</th>\n",
              "      <td>0</td>\n",
              "      <td>0</td>\n",
              "      <td>0</td>\n",
              "      <td>0</td>\n",
              "      <td>0</td>\n",
              "      <td>0</td>\n",
              "      <td>0</td>\n",
              "      <td>0</td>\n",
              "      <td>0</td>\n",
              "      <td>0</td>\n",
              "      <td>...</td>\n",
              "      <td>0</td>\n",
              "      <td>0</td>\n",
              "      <td>0</td>\n",
              "      <td>0</td>\n",
              "      <td>0</td>\n",
              "      <td>0</td>\n",
              "      <td>0</td>\n",
              "      <td>0</td>\n",
              "      <td>0</td>\n",
              "      <td>0</td>\n",
              "    </tr>\n",
              "    <tr>\n",
              "      <th>4</th>\n",
              "      <td>0</td>\n",
              "      <td>0</td>\n",
              "      <td>0</td>\n",
              "      <td>0</td>\n",
              "      <td>0</td>\n",
              "      <td>0</td>\n",
              "      <td>0</td>\n",
              "      <td>0</td>\n",
              "      <td>0</td>\n",
              "      <td>0</td>\n",
              "      <td>...</td>\n",
              "      <td>0</td>\n",
              "      <td>0</td>\n",
              "      <td>0</td>\n",
              "      <td>0</td>\n",
              "      <td>0</td>\n",
              "      <td>0</td>\n",
              "      <td>0</td>\n",
              "      <td>0</td>\n",
              "      <td>0</td>\n",
              "      <td>0</td>\n",
              "    </tr>\n",
              "    <tr>\n",
              "      <th>...</th>\n",
              "      <td>...</td>\n",
              "      <td>...</td>\n",
              "      <td>...</td>\n",
              "      <td>...</td>\n",
              "      <td>...</td>\n",
              "      <td>...</td>\n",
              "      <td>...</td>\n",
              "      <td>...</td>\n",
              "      <td>...</td>\n",
              "      <td>...</td>\n",
              "      <td>...</td>\n",
              "      <td>...</td>\n",
              "      <td>...</td>\n",
              "      <td>...</td>\n",
              "      <td>...</td>\n",
              "      <td>...</td>\n",
              "      <td>...</td>\n",
              "      <td>...</td>\n",
              "      <td>...</td>\n",
              "      <td>...</td>\n",
              "      <td>...</td>\n",
              "    </tr>\n",
              "    <tr>\n",
              "      <th>1938</th>\n",
              "      <td>0</td>\n",
              "      <td>0</td>\n",
              "      <td>0</td>\n",
              "      <td>1</td>\n",
              "      <td>0</td>\n",
              "      <td>0</td>\n",
              "      <td>0</td>\n",
              "      <td>0</td>\n",
              "      <td>2</td>\n",
              "      <td>1</td>\n",
              "      <td>...</td>\n",
              "      <td>1</td>\n",
              "      <td>0</td>\n",
              "      <td>0</td>\n",
              "      <td>0</td>\n",
              "      <td>0</td>\n",
              "      <td>0</td>\n",
              "      <td>0</td>\n",
              "      <td>0</td>\n",
              "      <td>0</td>\n",
              "      <td>0</td>\n",
              "    </tr>\n",
              "    <tr>\n",
              "      <th>1939</th>\n",
              "      <td>0</td>\n",
              "      <td>0</td>\n",
              "      <td>0</td>\n",
              "      <td>2</td>\n",
              "      <td>0</td>\n",
              "      <td>2</td>\n",
              "      <td>0</td>\n",
              "      <td>0</td>\n",
              "      <td>2</td>\n",
              "      <td>0</td>\n",
              "      <td>...</td>\n",
              "      <td>0</td>\n",
              "      <td>1</td>\n",
              "      <td>1</td>\n",
              "      <td>1</td>\n",
              "      <td>0</td>\n",
              "      <td>0</td>\n",
              "      <td>0</td>\n",
              "      <td>0</td>\n",
              "      <td>0</td>\n",
              "      <td>0</td>\n",
              "    </tr>\n",
              "    <tr>\n",
              "      <th>1940</th>\n",
              "      <td>0</td>\n",
              "      <td>0</td>\n",
              "      <td>0</td>\n",
              "      <td>0</td>\n",
              "      <td>0</td>\n",
              "      <td>0</td>\n",
              "      <td>0</td>\n",
              "      <td>0</td>\n",
              "      <td>0</td>\n",
              "      <td>0</td>\n",
              "      <td>...</td>\n",
              "      <td>0</td>\n",
              "      <td>0</td>\n",
              "      <td>0</td>\n",
              "      <td>0</td>\n",
              "      <td>0</td>\n",
              "      <td>0</td>\n",
              "      <td>0</td>\n",
              "      <td>0</td>\n",
              "      <td>0</td>\n",
              "      <td>0</td>\n",
              "    </tr>\n",
              "    <tr>\n",
              "      <th>1941</th>\n",
              "      <td>0</td>\n",
              "      <td>0</td>\n",
              "      <td>0</td>\n",
              "      <td>5</td>\n",
              "      <td>0</td>\n",
              "      <td>3</td>\n",
              "      <td>0</td>\n",
              "      <td>0</td>\n",
              "      <td>1</td>\n",
              "      <td>0</td>\n",
              "      <td>...</td>\n",
              "      <td>0</td>\n",
              "      <td>0</td>\n",
              "      <td>1</td>\n",
              "      <td>1</td>\n",
              "      <td>1</td>\n",
              "      <td>0</td>\n",
              "      <td>0</td>\n",
              "      <td>0</td>\n",
              "      <td>0</td>\n",
              "      <td>0</td>\n",
              "    </tr>\n",
              "    <tr>\n",
              "      <th>1942</th>\n",
              "      <td>0</td>\n",
              "      <td>0</td>\n",
              "      <td>0</td>\n",
              "      <td>1</td>\n",
              "      <td>0</td>\n",
              "      <td>1</td>\n",
              "      <td>0</td>\n",
              "      <td>0</td>\n",
              "      <td>1</td>\n",
              "      <td>0</td>\n",
              "      <td>...</td>\n",
              "      <td>0</td>\n",
              "      <td>0</td>\n",
              "      <td>0</td>\n",
              "      <td>0</td>\n",
              "      <td>0</td>\n",
              "      <td>3</td>\n",
              "      <td>2</td>\n",
              "      <td>1</td>\n",
              "      <td>1</td>\n",
              "      <td>1</td>\n",
              "    </tr>\n",
              "  </tbody>\n",
              "</table>\n",
              "<p>1943 rows × 2412 columns</p>\n",
              "</div>\n",
              "      <button class=\"colab-df-convert\" onclick=\"convertToInteractive('df-31ea7404-212e-47a5-9707-265cdd788f6b')\"\n",
              "              title=\"Convert this dataframe to an interactive table.\"\n",
              "              style=\"display:none;\">\n",
              "        \n",
              "  <svg xmlns=\"http://www.w3.org/2000/svg\" height=\"24px\"viewBox=\"0 0 24 24\"\n",
              "       width=\"24px\">\n",
              "    <path d=\"M0 0h24v24H0V0z\" fill=\"none\"/>\n",
              "    <path d=\"M18.56 5.44l.94 2.06.94-2.06 2.06-.94-2.06-.94-.94-2.06-.94 2.06-2.06.94zm-11 1L8.5 8.5l.94-2.06 2.06-.94-2.06-.94L8.5 2.5l-.94 2.06-2.06.94zm10 10l.94 2.06.94-2.06 2.06-.94-2.06-.94-.94-2.06-.94 2.06-2.06.94z\"/><path d=\"M17.41 7.96l-1.37-1.37c-.4-.4-.92-.59-1.43-.59-.52 0-1.04.2-1.43.59L10.3 9.45l-7.72 7.72c-.78.78-.78 2.05 0 2.83L4 21.41c.39.39.9.59 1.41.59.51 0 1.02-.2 1.41-.59l7.78-7.78 2.81-2.81c.8-.78.8-2.07 0-2.86zM5.41 20L4 18.59l7.72-7.72 1.47 1.35L5.41 20z\"/>\n",
              "  </svg>\n",
              "      </button>\n",
              "      \n",
              "  <style>\n",
              "    .colab-df-container {\n",
              "      display:flex;\n",
              "      flex-wrap:wrap;\n",
              "      gap: 12px;\n",
              "    }\n",
              "\n",
              "    .colab-df-convert {\n",
              "      background-color: #E8F0FE;\n",
              "      border: none;\n",
              "      border-radius: 50%;\n",
              "      cursor: pointer;\n",
              "      display: none;\n",
              "      fill: #1967D2;\n",
              "      height: 32px;\n",
              "      padding: 0 0 0 0;\n",
              "      width: 32px;\n",
              "    }\n",
              "\n",
              "    .colab-df-convert:hover {\n",
              "      background-color: #E2EBFA;\n",
              "      box-shadow: 0px 1px 2px rgba(60, 64, 67, 0.3), 0px 1px 3px 1px rgba(60, 64, 67, 0.15);\n",
              "      fill: #174EA6;\n",
              "    }\n",
              "\n",
              "    [theme=dark] .colab-df-convert {\n",
              "      background-color: #3B4455;\n",
              "      fill: #D2E3FC;\n",
              "    }\n",
              "\n",
              "    [theme=dark] .colab-df-convert:hover {\n",
              "      background-color: #434B5C;\n",
              "      box-shadow: 0px 1px 3px 1px rgba(0, 0, 0, 0.15);\n",
              "      filter: drop-shadow(0px 1px 2px rgba(0, 0, 0, 0.3));\n",
              "      fill: #FFFFFF;\n",
              "    }\n",
              "  </style>\n",
              "\n",
              "      <script>\n",
              "        const buttonEl =\n",
              "          document.querySelector('#df-31ea7404-212e-47a5-9707-265cdd788f6b button.colab-df-convert');\n",
              "        buttonEl.style.display =\n",
              "          google.colab.kernel.accessAllowed ? 'block' : 'none';\n",
              "\n",
              "        async function convertToInteractive(key) {\n",
              "          const element = document.querySelector('#df-31ea7404-212e-47a5-9707-265cdd788f6b');\n",
              "          const dataTable =\n",
              "            await google.colab.kernel.invokeFunction('convertToInteractive',\n",
              "                                                     [key], {});\n",
              "          if (!dataTable) return;\n",
              "\n",
              "          const docLinkHtml = 'Like what you see? Visit the ' +\n",
              "            '<a target=\"_blank\" href=https://colab.research.google.com/notebooks/data_table.ipynb>data table notebook</a>'\n",
              "            + ' to learn more about interactive tables.';\n",
              "          element.innerHTML = '';\n",
              "          dataTable['output_type'] = 'display_data';\n",
              "          await google.colab.output.renderOutput(dataTable, element);\n",
              "          const docLink = document.createElement('div');\n",
              "          docLink.innerHTML = docLinkHtml;\n",
              "          element.appendChild(docLink);\n",
              "        }\n",
              "      </script>\n",
              "    </div>\n",
              "  </div>\n",
              "  "
            ]
          },
          "metadata": {},
          "execution_count": 163
        }
      ]
    },
    {
      "cell_type": "code",
      "source": [],
      "metadata": {
        "id": "uGw-vwv5lpx9"
      },
      "execution_count": null,
      "outputs": []
    }
  ]
}